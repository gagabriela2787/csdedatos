{
  "nbformat": 4,
  "nbformat_minor": 0,
  "metadata": {
    "colab": {
      "provenance": []
    },
    "kernelspec": {
      "name": "python3",
      "display_name": "Python 3"
    },
    "language_info": {
      "name": "python"
    }
  },
  "cells": [
    {
      "cell_type": "markdown",
      "source": [
        "# NUMPY: Leer y escribir archivos txt"
      ],
      "metadata": {
        "id": "VRaOdHMoCUUp"
      }
    },
    {
      "cell_type": "markdown",
      "source": [
        "**numpy.genfromtxt():** Esta función es una herramienta versátil para leer datos de archivos de texto. Puede manejar archivos con valores faltantes, encabezados y diferentes tipos de datos. Algunas características clave de genfromtxt() son:\n",
        "\n",
        "Puede manejar archivos con formatos de valores separados por comas, espacios, tabulaciones u otros delimitadores personalizados.\n",
        "\n",
        "-Puede omitir filas o columnas específicas.\n",
        "\n",
        "-Permite especificar el tipo de datos de cada columna o inferir automáticamente los tipos de datos.\n",
        "-Admite el manejo de valores faltantes, proporcionando opciones para rellenarlos o ignorarlos."
      ],
      "metadata": {
        "id": "XKVK7Xf54Er0"
      }
    },
    {
      "cell_type": "code",
      "source": [
        "import numpy as np\n",
        "data = np.genfromtxt('archivo.txt', delimiter=',')\n",
        "data = np.genfromtxt('archivo.csv', delimiter=',')\n"
      ],
      "metadata": {
        "id": "fbX-GqU74q2-"
      },
      "execution_count": null,
      "outputs": []
    },
    {
      "cell_type": "markdown",
      "source": [
        "**numpy.savetxt():** Esta función se utiliza para guardar una matriz NumPy en un archivo de texto. Puedes especificar el delimitador y otras opciones para formatear los datos guardados."
      ],
      "metadata": {
        "id": "gmZ5EEyN5lJb"
      }
    },
    {
      "cell_type": "code",
      "execution_count": null,
      "metadata": {
        "colab": {
          "base_uri": "https://localhost:8080/"
        },
        "id": "KiDuNE8SrbtN",
        "outputId": "b4bb9c42-3a6d-4bc9-8729-5a7ba91dadd7"
      },
      "outputs": [
        {
          "output_type": "stream",
          "name": "stdout",
          "text": [
            "[[10  8  6  9  6]\n",
            " [10  1  2  3  1]\n",
            " [ 1  5  5  5  2]\n",
            " [10  9  1  9  6]]\n"
          ]
        }
      ],
      "source": [
        "# Escribir en un archivo de texto un array (4x5) generado\n",
        "# con números aleatorios del 1 al 10:\n",
        "import numpy as np\n",
        "a = np.random.randint(1, 11, (4,5))\n",
        "print(a)\n",
        "\n"
      ]
    },
    {
      "cell_type": "code",
      "source": [
        "np.savetxt('datos_sala1.txt', a)"
      ],
      "metadata": {
        "id": "pw0E4vW6AGyZ"
      },
      "execution_count": null,
      "outputs": []
    },
    {
      "cell_type": "markdown",
      "source": [
        "**numpy.loadtxt():** Esta función es similar a genfromtxt() pero más limitada en cuanto a funcionalidad. loadtxt() se utiliza para cargar matrices NumPy a partir de archivos de texto, pero no admite características avanzadas como encabezados o valores faltantes. Es útil para cargar archivos de texto simples con datos numéricos sin complicaciones."
      ],
      "metadata": {
        "id": "Y5CmucLy5WHy"
      }
    },
    {
      "cell_type": "code",
      "source": [
        "# Leer los datos de un archivo de texto y declarar un array:\n",
        "\n",
        "a = np.loadtxt('datos_prueba.txt',delimiter=' ')\n",
        "print(a)"
      ],
      "metadata": {
        "colab": {
          "base_uri": "https://localhost:8080/"
        },
        "id": "aUVKYb1ZsoX9",
        "outputId": "a83e442f-34f2-45ab-bfd4-ff0741be0ca4"
      },
      "execution_count": null,
      "outputs": [
        {
          "output_type": "stream",
          "name": "stdout",
          "text": [
            "[22. 33. 44. 55. 66. 77. 88. 99.  0. 11.]\n"
          ]
        }
      ]
    },
    {
      "cell_type": "code",
      "source": [
        "nombres = np.loadtxt('nombres.txt', dtype=str)\n",
        "\n",
        "print(nombres)"
      ],
      "metadata": {
        "colab": {
          "base_uri": "https://localhost:8080/"
        },
        "id": "7xXWQMFT7VEO",
        "outputId": "006174d1-cdde-4d1e-b763-5ef199fda4d9"
      },
      "execution_count": null,
      "outputs": [
        {
          "output_type": "stream",
          "name": "stdout",
          "text": [
            "['marcos' 'maria' 'jose' 'ariel' 'josefina' 'carlos' 'walter']\n"
          ]
        }
      ]
    },
    {
      "cell_type": "markdown",
      "source": [
        "EJERCICIO: Crear un archivo txt llamado dias_semana que\n",
        "contenga los días de la semana y leerlo.\n",
        "\n",
        "\n",
        "\n"
      ],
      "metadata": {
        "id": "1UJKlVoi8MQw"
      }
    },
    {
      "cell_type": "markdown",
      "source": [
        "EJERCICIO: Crear un archivo .txt con los datos de las temperaturas minimas esta semana y leerlos y mostralas las temperaturas con el dia correspondiente.\n",
        "Por ejemplo lunes 12° martes 4° ...."
      ],
      "metadata": {
        "id": "c4BaSUtCrtXH"
      }
    },
    {
      "cell_type": "code",
      "source": [
        "a = np.loadtxt('dias_semana.txt', dtype=str)\n",
        "b = np.loadtxt('temperaturas_minimas.txt', dtype=str)\n",
        "\n",
        "for dia, temperatura in zip(a, b):\n",
        " print(f'{dia} {temperatura}°')"
      ],
      "metadata": {
        "colab": {
          "base_uri": "https://localhost:8080/"
        },
        "id": "Qqcdc-9Bd24C",
        "outputId": "7478bbf8-bdca-44d0-85ae-58e7f26beca2"
      },
      "execution_count": null,
      "outputs": [
        {
          "output_type": "stream",
          "name": "stdout",
          "text": [
            "Lunes 2°\n",
            "Martes 2°\n",
            "Miércoles 6°\n",
            "Jueves 7°\n",
            "Viernes 6°\n",
            "Sábado 4°\n",
            "Domingo 8°\n"
          ]
        }
      ]
    }
  ]
}