{
  "nbformat": 4,
  "nbformat_minor": 0,
  "metadata": {
    "colab": {
      "provenance": [],
      "include_colab_link": true
    },
    "kernelspec": {
      "name": "python3",
      "display_name": "Python 3"
    },
    "language_info": {
      "name": "python"
    }
  },
  "cells": [
    {
      "cell_type": "markdown",
      "metadata": {
        "id": "view-in-github",
        "colab_type": "text"
      },
      "source": [
        "<a href=\"https://colab.research.google.com/github/gagabriela2787/csdedatos/blob/main/Untitled16.ipynb\" target=\"_parent\"><img src=\"https://colab.research.google.com/assets/colab-badge.svg\" alt=\"Open In Colab\"/></a>"
      ]
    },
    {
      "cell_type": "markdown",
      "source": [
        "#ANÁLISIS EXPLORATORIO DE DATOS O EDA"
      ],
      "metadata": {
        "id": "a0Mf3KNMPhpw"
      }
    },
    {
      "cell_type": "code",
      "execution_count": null,
      "metadata": {
        "colab": {
          "base_uri": "https://localhost:8080/"
        },
        "id": "iNce5PGA3Tlc",
        "outputId": "f5dc0ac6-e2f7-4ea2-fc40-0c4a56e1fcd8"
      },
      "outputs": [
        {
          "output_type": "stream",
          "name": "stdout",
          "text": [
            "(b'2015-01-03', 314.846008, 315.149994, 281.082001, 281.082001, 281.082001, 33054400)\n",
            "(b'2015-01-04', 281.145996, 287.230011, 257.612, 264.195007, 264.195007, 55629100)\n",
            "(b'2015-01-05', 265.084015, 278.341003, 265.084015, 274.473999, 274.473999, 43962800)\n",
            "(b'2015-01-06', 274.610992, 287.553009, 272.696014, 286.188995, 286.188995, 23245700)\n",
            "(b'2015-01-07', 286.076996, 298.753998, 283.07901, 294.337006, 294.337006, 24866800)\n",
            "(b'2015-01-08', 294.13501, 294.13501, 282.174988, 283.348999, 283.348999, 19982500)\n",
            "(b'2015-01-09', 282.382996, 291.114014, 280.53299, 290.40799, 290.40799, 18718600)\n",
            "(b'2015-01-10', 287.303009, 288.127014, 273.966003, 274.79599, 274.79599, 15264300)\n",
            "(b'2015-01-11', 274.608002, 279.638, 265.039001, 265.660004, 265.660004, 18200800)\n",
            "(b'2015-01-12', 266.145996, 272.203003, 265.200012, 267.79599, 267.79599, 18880300)\n",
            "(b'2015-01-13', 267.394012, 268.277008, 219.906006, 225.860992, 225.860992, 72843904)\n",
            "(b'2015-01-14', 223.893997, 223.893997, 171.509995, 178.102997, 178.102997, 97638704)\n",
            "(b'2015-01-15', 176.897003, 229.067001, 176.897003, 209.843994, 209.843994, 81773504)\n",
            "(b'2015-01-16', 209.070007, 221.591003, 199.770996, 208.097, 208.097, 38421000)\n",
            "(b'2015-01-17', 207.834, 211.731003, 194.875, 199.259995, 199.259995, 23469700)\n",
            "(b'2015-01-18', 200.050003, 218.695007, 194.505997, 210.339005, 210.339005, 30085100)\n",
            "(b'2015-01-19', 211.470993, 216.727997, 207.317993, 214.860992, 214.860992, 18658300)\n",
            "(b'2015-01-20', 212.906998, 215.240997, 205.153, 211.315002, 211.315002, 24051100)\n",
            "(b'2015-01-21', 211.378006, 227.787994, 211.212006, 226.897003, 226.897003, 29924600)\n",
            "(b'2015-01-22', 227.322006, 237.018997, 226.434006, 233.406006, 233.406006, 33544600)\n",
            "(b'2015-01-23', 233.516998, 234.845001, 225.195999, 232.878998, 232.878998, 24621700)\n",
            "(b'2015-01-24', 232.699997, 248.210007, 230.022003, 247.847, 247.847, 24782500)\n",
            "(b'2015-01-25', 247.352005, 255.074005, 243.889999, 253.718002, 253.718002, 33582700)\n",
            "(b'2015-01-26', 254.078995, 309.384003, 254.078995, 273.472992, 273.472992, 106794000)\n",
            "(b'2015-01-27', 273.166992, 275.480011, 250.653, 263.475006, 263.475006, 44399000)\n",
            "(b'2015-01-28', 263.351013, 266.535004, 227.046005, 233.914993, 233.914993, 44352200)\n",
            "(b'2015-01-29', 233.348007, 238.705994, 220.712006, 233.513, 233.513, 32213400)\n",
            "(b'2015-01-30', 232.772003, 242.850998, 225.839005, 226.425003, 226.425003, 26605200)\n",
            "(b'2015-01-31', 226.440994, 233.503998, 216.309006, 217.464005, 217.464005, 23348200)\n"
          ]
        },
        {
          "output_type": "stream",
          "name": "stderr",
          "text": [
            "<ipython-input-40-c20ffc912f0c>:4: VisibleDeprecationWarning: Reading unicode strings without specifying the encoding argument is deprecated. Set the encoding, use None for the system default.\n",
            "  datos = np.genfromtxt('BTC-USD.csv', delimiter=',', skip_header=1, dtype=None)\n"
          ]
        }
      ],
      "source": [
        "import numpy as np\n",
        "\n",
        "# Importar el archivo CSV\n",
        "datos = np.genfromtxt('BTC-USD.csv', delimiter=',', skip_header=1, dtype=None)\n",
        "\n",
        "# Filtrar las filas correspondientes al año 2015\n",
        "filas_2015 = [fila for fila in datos if fila[0].decode('utf-8').startswith('2015-01')]\n",
        "\n",
        "# Imprimir las filas correspondientes al año 2015\n",
        "for fila in filas_2015:\n",
        "    print(fila)"
      ]
    },
    {
      "cell_type": "code",
      "source": [
        "filas_apertura = [fila[1] for fila in datos if fila[0].decode('utf-8').startswith('2015-01')]\n",
        "# Imprimir la segunda columna en las filas correspondientes al año 2015\n",
        "for columna in filas_apertura:\n",
        "    print(columna)"
      ],
      "metadata": {
        "colab": {
          "base_uri": "https://localhost:8080/"
        },
        "id": "8UoV2qmn49IP",
        "outputId": "e132c958-72c0-40a3-84f2-4812e8ad7475"
      },
      "execution_count": null,
      "outputs": [
        {
          "output_type": "stream",
          "name": "stdout",
          "text": [
            "314.846008\n",
            "281.145996\n",
            "265.084015\n",
            "274.610992\n",
            "286.076996\n",
            "294.13501\n",
            "282.382996\n",
            "287.303009\n",
            "274.608002\n",
            "266.145996\n",
            "267.394012\n",
            "223.893997\n",
            "176.897003\n",
            "209.070007\n",
            "207.834\n",
            "200.050003\n",
            "211.470993\n",
            "212.906998\n",
            "211.378006\n",
            "227.322006\n",
            "233.516998\n",
            "232.699997\n",
            "247.352005\n",
            "254.078995\n",
            "273.166992\n",
            "263.351013\n",
            "233.348007\n",
            "232.772003\n",
            "226.440994\n"
          ]
        }
      ]
    },
    {
      "cell_type": "code",
      "source": [
        "np.mean(filas_apertura)\n"
      ],
      "metadata": {
        "colab": {
          "base_uri": "https://localhost:8080/"
        },
        "id": "0l5RS9HGCemi",
        "outputId": "334b5fce-1651-423c-e3bb-3c3827f8081d"
      },
      "execution_count": null,
      "outputs": [
        {
          "output_type": "execute_result",
          "data": {
            "text/plain": [
              "247.28562237931035"
            ]
          },
          "metadata": {},
          "execution_count": 42
        }
      ]
    },
    {
      "cell_type": "code",
      "source": [
        "np.median(filas_apertura)"
      ],
      "metadata": {
        "colab": {
          "base_uri": "https://localhost:8080/"
        },
        "id": "uVxjv6PdCoep",
        "outputId": "f005d1be-d59e-4d21-8557-be83b38cee8d"
      },
      "execution_count": null,
      "outputs": [
        {
          "output_type": "execute_result",
          "data": {
            "text/plain": [
              "247.352005"
            ]
          },
          "metadata": {},
          "execution_count": 43
        }
      ]
    },
    {
      "cell_type": "code",
      "source": [
        "np.std(filas_apertura)"
      ],
      "metadata": {
        "colab": {
          "base_uri": "https://localhost:8080/"
        },
        "id": "ZmXGW4aJBByt",
        "outputId": "3f49471f-a851-45b4-892f-9e75fb944807"
      },
      "execution_count": null,
      "outputs": [
        {
          "output_type": "execute_result",
          "data": {
            "text/plain": [
              "33.18282779917847"
            ]
          },
          "metadata": {},
          "execution_count": 44
        }
      ]
    },
    {
      "cell_type": "code",
      "source": [
        "np.var(filas_apertura)\n"
      ],
      "metadata": {
        "colab": {
          "base_uri": "https://localhost:8080/"
        },
        "id": "5phpyj0VBBmc",
        "outputId": "acd18c55-6760-42b4-eeea-ecd63127f53a"
      },
      "execution_count": null,
      "outputs": [
        {
          "output_type": "execute_result",
          "data": {
            "text/plain": [
              "1101.1000607499316"
            ]
          },
          "metadata": {},
          "execution_count": 45
        }
      ]
    },
    {
      "cell_type": "code",
      "source": [
        "np.percentile(filas_apertura,75)"
      ],
      "metadata": {
        "colab": {
          "base_uri": "https://localhost:8080/"
        },
        "id": "MGCJxJ1WCy1X",
        "outputId": "9a0e562d-cc93-455b-f45e-aaaeaf4d39bd"
      },
      "execution_count": null,
      "outputs": [
        {
          "output_type": "execute_result",
          "data": {
            "text/plain": [
              "274.608002"
            ]
          },
          "metadata": {},
          "execution_count": 46
        }
      ]
    },
    {
      "cell_type": "markdown",
      "source": [
        "Realizar un analisis estadisticos sobre los valores de cierre durante el mismo periodo."
      ],
      "metadata": {
        "id": "WPYfMYWZOWtk"
      }
    },
    {
      "cell_type": "code",
      "source": [
        "# Gráfico de líneas\n",
        "import matplotlib.pyplot as plt\n",
        "\n",
        "tiempo=np.arange(3,32)\n",
        "plt.plot(tiempo, filas_apertura)\n",
        "plt.xlabel('Tiempo (días)')\n",
        "plt.ylabel('Cotización (USD)')\n",
        "plt.title('Cotización del Bitcoin a lo largo del tiempo')\n",
        "plt.show()"
      ],
      "metadata": {
        "id": "Xah5rGvCCZmb"
      },
      "execution_count": null,
      "outputs": []
    },
    {
      "cell_type": "code",
      "source": [
        "# Gráfico de barras\n",
        "tiempo=np.arange(3,32)\n",
        "plt.bar(tiempo, filas_apertura)\n",
        "plt.xlabel('Tiempo (días)')\n",
        "plt.ylabel('Apertura en USD')\n",
        "plt.title('Valores de Apertura Bitcoin')\n",
        "plt.show()"
      ],
      "metadata": {
        "id": "6T3vTbuvJL3m"
      },
      "execution_count": null,
      "outputs": []
    },
    {
      "cell_type": "code",
      "source": [
        "\n",
        "# Graficar histograma\n",
        "plt.hist(filas_apertura)\n",
        "\n",
        "# Configurar etiquetas y títulos de los ejes\n",
        "plt.xlabel('Precios de Bitcoin')\n",
        "plt.ylabel('Frecuencia')\n",
        "plt.title('Distribución de precios de Bitcoin')\n",
        "\n",
        "# Mostrar el histograma\n",
        "plt.show()"
      ],
      "metadata": {
        "id": "4FJuUF1F-553"
      },
      "execution_count": null,
      "outputs": []
    },
    {
      "cell_type": "markdown",
      "source": [
        "Graficar los datos correspondientes al tiempo trabajado."
      ],
      "metadata": {
        "id": "Y3RCWQqtOxF1"
      }
    },
    {
      "cell_type": "code",
      "source": [
        "# Datos de cotización del Bitcoin (ficticios)\n",
        "tiempo = [1, 2, 3, 4, 5]\n",
        "\n",
        "apertura = [5500, 6000, 6500, 6000, 7000]\n",
        "cierre = [6000, 6500, 4000, 7000, 5500]\n",
        "maximo = [6500, 7000, 7500, 8000, 8500]\n",
        "minimo = [5000, 5500, 3200, 6000, 4500]\n",
        "\n",
        "fig, ax = plt.subplots()\n",
        "\"\"\"\n",
        "En este ejemplo, creamos una figura y un conjunto de ejes utilizando plt.subplots().\n",
        "Luego, iteramos sobre los datos de tiempo, apertura, cierre, máximo y mínimo,\n",
        " y dibujamos cada vela utilizando plt.Rectangle() para el cuerpo y plt.plot() para las sombras.\n",
        "\"\"\"\n",
        "# Iterar sobre los datos y dibujar cada vela\n",
        "for i in range(len(tiempo)):\n",
        "    if apertura[i] > cierre[i]:\n",
        "        color = 'red'  # Vela bajista (cierre menor que apertura)\n",
        "    else:\n",
        "        color = 'green'  # Vela alcista (cierre mayor que apertura)\n",
        "\n",
        "    # Dibujar el cuerpo de la vela\n",
        "    ax.add_patch(plt.Rectangle((tiempo[i] - 0.4, apertura[i]), 0.8, cierre[i] - apertura[i], fill=True, color=color))\n",
        "\n",
        "    # Dibujar las sombras de la vela\n",
        "    ax.plot([tiempo[i], tiempo[i]], [maximo[i], minimo[i]], color='black')\n",
        "    ax.plot([tiempo[i] - 0.2, tiempo[i] + 0.2], [maximo[i], maximo[i]], color='black')\n",
        "    ax.plot([tiempo[i] - 0.2, tiempo[i] + 0.2], [minimo[i], minimo[i]], color='black')\n",
        "\n",
        "# Configurar etiquetas y títulos de los ejes\n",
        "plt.xlabel('Tiempo')\n",
        "plt.ylabel('Cotización')\n",
        "plt.title('Gráfico de velas del Bitcoin')\n",
        "\n",
        "# Mostrar el gráfico de velas\n",
        "plt.show()"
      ],
      "metadata": {
        "id": "n40kXp4yGoxm"
      },
      "execution_count": null,
      "outputs": []
    },
    {
      "cell_type": "markdown",
      "source": [
        "Ejemplo integrador, el periodo seleccionado en formato de grafico de velas."
      ],
      "metadata": {
        "id": "euYBJUjeO4m8"
      }
    }
  ]
}