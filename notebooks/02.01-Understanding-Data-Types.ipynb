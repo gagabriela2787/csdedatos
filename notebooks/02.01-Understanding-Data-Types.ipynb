{
  "cells": [
    {
      "cell_type": "markdown",
      "metadata": {
        "id": "L6Fjzi0DCaHu"
      },
      "source": [
        "# Understanding Data Types in Python"
      ]
    },
    {
      "cell_type": "markdown",
      "metadata": {
        "id": "VsvKmQlBCaHx"
      },
      "source": [
        "Effective data-driven science and computation requires understanding how data is stored and manipulated.\n",
        "This chapter outlines and contrasts how arrays of data are handled in the Python language itself, and how NumPy improves on this.\n",
        "Understanding this difference is fundamental to understanding much of the material throughout the rest of the book.\n",
        "\n",
        "Users of Python are often drawn in by its ease of use, one piece of which is dynamic typing.\n",
        "While a statically typed language like C or Java requires each variable to be explicitly declared, a dynamically typed language like Python skips this specification. For example, in C you might specify a particular operation as follows:\n",
        "\n",
        "```C\n",
        "/* C code */\n",
        "int result = 0;\n",
        "for(int i=0; i<100; i++){\n",
        "    result += i;\n",
        "}\n",
        "```\n",
        "\n",
        "While in Python the equivalent operation could be written this way:\n",
        "\n",
        "```python\n",
        "# Python code\n",
        "result = 0\n",
        "for i in range(100):\n",
        "    result += i\n",
        "```\n",
        "\n",
        "Notice one main difference: in C, the data types of each variable are explicitly declared, while in Python the types are dynamically inferred. This means, for example, that we can assign any kind of data to any variable:\n",
        "\n",
        "```python\n",
        "# Python code\n",
        "x = 4\n",
        "x = \"four\"\n",
        "```\n",
        "\n",
        "Here we've switched the contents of `x` from an integer to a string. The same thing in C would lead (depending on compiler settings) to a compilation error or other unintended consequences:\n",
        "\n",
        "```C\n",
        "/* C code */\n",
        "int x = 4;\n",
        "x = \"four\";  // FAILS\n",
        "```\n",
        "\n",
        "This sort of flexibility is one element that makes Python and other dynamically typed languages convenient and easy to use.\n",
        "Understanding *how* this works is an important piece of learning to analyze data efficiently and effectively with Python.\n",
        "But what this type flexibility also points to is the fact that Python variables are more than just their values; they also contain extra information about the *type* of the value. We'll explore this more in the sections that follow."
      ]
    },
    {
      "cell_type": "markdown",
      "metadata": {
        "id": "dTdJ06ChCaHy"
      },
      "source": [
        "## A Python Integer Is More Than Just an Integer\n",
        "\n",
        "The standard Python implementation is written in C.\n",
        "This means that every Python object is simply a cleverly disguised C structure, which contains not only its value, but other information as well. For example, when we define an integer in Python, such as `x = 10000`, `x` is not just a \"raw\" integer. It's actually a pointer to a compound C structure, which contains several values.\n",
        "Looking through the Python 3.10 source code, we find that the integer (long) type definition effectively looks like this (once the C macros are expanded):\n",
        "\n",
        "```C\n",
        "struct _longobject {\n",
        "    long ob_refcnt;\n",
        "    PyTypeObject *ob_type;\n",
        "    size_t ob_size;\n",
        "    long ob_digit[1];\n",
        "};\n",
        "```\n",
        "\n",
        "A single integer in Python 3.10 actually contains four pieces:\n",
        "\n",
        "- `ob_refcnt`, a reference count that helps Python silently handle memory allocation and deallocation\n",
        "- `ob_type`, which encodes the type of the variable\n",
        "- `ob_size`, which specifies the size of the following data members\n",
        "- `ob_digit`, which contains the actual integer value that we expect the Python variable to represent\n",
        "\n",
        "This means that there is some overhead involved in storing an integer in Python as compared to a compiled language like C, as illustrated in the following figure:"
      ]
    },
    {
      "cell_type": "markdown",
      "metadata": {
        "id": "Knw4PmQdCaHy"
      },
      "source": [
        "![Integer Memory Layout](https://github.com/jakevdp/PythonDataScienceHandbook/blob/master/notebooks/images/cint_vs_pyint.png?raw=1)"
      ]
    },
    {
      "cell_type": "markdown",
      "metadata": {
        "id": "x-JGd3EGCaHz"
      },
      "source": [
        "Here, `PyObject_HEAD` is the part of the structure containing the reference count, type code, and other pieces mentioned before.\n",
        "\n",
        "Notice the difference here: a C integer is essentially a label for a position in memory whose bytes encode an integer value.\n",
        "A Python integer is a pointer to a position in memory containing all the Python object information, including the bytes that contain the integer value.\n",
        "This extra information in the Python integer structure is what allows Python to be coded so freely and dynamically.\n",
        "All this additional information in Python types comes at a cost, however, which becomes especially apparent in structures that combine many of these objects."
      ]
    },
    {
      "cell_type": "markdown",
      "metadata": {
        "id": "RdN9DhhGCaHz"
      },
      "source": [
        "## A Python List Is More Than Just a List\n",
        "\n",
        "Let's consider now what happens when we use a Python data structure that holds many Python objects.\n",
        "The standard mutable multielement container in Python is the list.\n",
        "We can create a list of integers as follows:"
      ]
    },
    {
      "cell_type": "code",
      "execution_count": null,
      "metadata": {
        "jupyter": {
          "outputs_hidden": false
        },
        "id": "7TpvubpZCaHz",
        "outputId": "f4a62cdf-27cb-4cc0-ad65-6c863f4dd67a"
      },
      "outputs": [
        {
          "data": {
            "text/plain": [
              "[0, 1, 2, 3, 4, 5, 6, 7, 8, 9]"
            ]
          },
          "execution_count": 1,
          "metadata": {},
          "output_type": "execute_result"
        }
      ],
      "source": [
        "L = list(range(10))\n",
        "L"
      ]
    },
    {
      "cell_type": "code",
      "execution_count": null,
      "metadata": {
        "jupyter": {
          "outputs_hidden": false
        },
        "id": "1m8ZXCoMCaH1",
        "outputId": "4f89a3ef-10af-4c0a-8249-f8a99a8c6f7e"
      },
      "outputs": [
        {
          "data": {
            "text/plain": [
              "int"
            ]
          },
          "execution_count": 2,
          "metadata": {},
          "output_type": "execute_result"
        }
      ],
      "source": [
        "type(L[0])"
      ]
    },
    {
      "cell_type": "markdown",
      "metadata": {
        "id": "zwEO3GcZCaH1"
      },
      "source": [
        "Or, similarly, a list of strings:"
      ]
    },
    {
      "cell_type": "code",
      "execution_count": null,
      "metadata": {
        "jupyter": {
          "outputs_hidden": false
        },
        "id": "I2Q4Xb1NCaH1",
        "outputId": "032e1972-3f0a-40ef-e2b7-bbc60373c1df"
      },
      "outputs": [
        {
          "data": {
            "text/plain": [
              "['0', '1', '2', '3', '4', '5', '6', '7', '8', '9']"
            ]
          },
          "execution_count": 3,
          "metadata": {},
          "output_type": "execute_result"
        }
      ],
      "source": [
        "L2 = [str(c) for c in L]\n",
        "L2"
      ]
    },
    {
      "cell_type": "code",
      "execution_count": null,
      "metadata": {
        "jupyter": {
          "outputs_hidden": false
        },
        "id": "IEwgE5YfCaH2",
        "outputId": "c5020909-b350-42c4-c05e-6904393cb791"
      },
      "outputs": [
        {
          "data": {
            "text/plain": [
              "str"
            ]
          },
          "execution_count": 4,
          "metadata": {},
          "output_type": "execute_result"
        }
      ],
      "source": [
        "type(L2[0])"
      ]
    },
    {
      "cell_type": "markdown",
      "metadata": {
        "id": "rzsWmDoqCaH2"
      },
      "source": [
        "Because of Python's dynamic typing, we can even create heterogeneous lists:"
      ]
    },
    {
      "cell_type": "code",
      "execution_count": null,
      "metadata": {
        "jupyter": {
          "outputs_hidden": false
        },
        "id": "Zc5qRqkNCaH2",
        "outputId": "f6e877d3-ec8c-4100-f28b-883a664fe966"
      },
      "outputs": [
        {
          "data": {
            "text/plain": [
              "[bool, str, float, int]"
            ]
          },
          "execution_count": 5,
          "metadata": {},
          "output_type": "execute_result"
        }
      ],
      "source": [
        "L3 = [True, \"2\", 3.0, 4]\n",
        "[type(item) for item in L3]"
      ]
    },
    {
      "cell_type": "markdown",
      "metadata": {
        "id": "opY7QGoWCaH2"
      },
      "source": [
        "But this flexibility comes at a cost: to allow these flexible types, each item in the list must contain its own type, reference count, and other information. That is, each item is a complete Python object.\n",
        "In the special case that all variables are of the same type, much of this information is redundant, so it can be much more efficient to store the data in a fixed-type array.\n",
        "The difference between a dynamic-type list and a fixed-type (NumPy-style) array is illustrated in the following figure:"
      ]
    },
    {
      "cell_type": "markdown",
      "metadata": {
        "id": "8HFXMrL4CaH2"
      },
      "source": [
        "![Array Memory Layout](https://github.com/jakevdp/PythonDataScienceHandbook/blob/master/notebooks/images/array_vs_list.png?raw=1)"
      ]
    },
    {
      "cell_type": "markdown",
      "metadata": {
        "id": "st8UhG9JCaH2"
      },
      "source": [
        "At the implementation level, the array essentially contains a single pointer to one contiguous block of data.\n",
        "The Python list, on the other hand, contains a pointer to a block of pointers, each of which in turn points to a full Python object like the Python integer we saw earlier.\n",
        "Again, the advantage of the list is flexibility: because each list element is a full structure containing both data and type information, the list can be filled with data of any desired type.\n",
        "Fixed-type NumPy-style arrays lack this flexibility, but are much more efficient for storing and manipulating data."
      ]
    },
    {
      "cell_type": "markdown",
      "metadata": {
        "id": "KFeekvVwCaH2"
      },
      "source": [
        "## Fixed-Type Arrays in Python\n",
        "\n",
        "Python offers several different options for storing data in efficient, fixed-type data buffers.\n",
        "The built-in `array` module (available since Python 3.3) can be used to create dense arrays of a uniform type:"
      ]
    },
    {
      "cell_type": "code",
      "execution_count": null,
      "metadata": {
        "jupyter": {
          "outputs_hidden": false
        },
        "id": "NuXi_bPmCaH3",
        "outputId": "25325b06-b69f-4521-f120-174331e15dbc"
      },
      "outputs": [
        {
          "data": {
            "text/plain": [
              "array('i', [0, 1, 2, 3, 4, 5, 6, 7, 8, 9])"
            ]
          },
          "execution_count": 6,
          "metadata": {},
          "output_type": "execute_result"
        }
      ],
      "source": [
        "import array\n",
        "L = list(range(10))\n",
        "A = array.array('i', L)\n",
        "A"
      ]
    },
    {
      "cell_type": "markdown",
      "metadata": {
        "id": "UDWa8H4vCaH3"
      },
      "source": [
        "Here, `'i'` is a type code indicating the contents are integers.\n",
        "\n",
        "Much more useful, however, is the `ndarray` object of the NumPy package.\n",
        "While Python's `array` object provides efficient storage of array-based data, NumPy adds to this efficient *operations* on that data.\n",
        "We will explore these operations in later chapters; next, I'll show you a few different ways of creating a NumPy array."
      ]
    },
    {
      "cell_type": "markdown",
      "metadata": {
        "id": "UFNVnLQ2CaH3"
      },
      "source": [
        "## Creating Arrays from Python Lists\n",
        "\n",
        "We'll start with the standard NumPy import, under the alias `np`:"
      ]
    },
    {
      "cell_type": "code",
      "execution_count": null,
      "metadata": {
        "id": "l5Z3biVhCaH3"
      },
      "outputs": [],
      "source": [
        "import numpy as np"
      ]
    },
    {
      "cell_type": "markdown",
      "metadata": {
        "id": "F9HaY3CzCaH3"
      },
      "source": [
        "Now we can use `np.array` to create arrays from Python lists:"
      ]
    },
    {
      "cell_type": "code",
      "execution_count": null,
      "metadata": {
        "jupyter": {
          "outputs_hidden": false
        },
        "id": "XkzvQF61CaH3",
        "outputId": "902191a7-a6cc-4fe1-f746-8f56e03fbff0"
      },
      "outputs": [
        {
          "data": {
            "text/plain": [
              "array([1, 4, 2, 5, 3])"
            ]
          },
          "execution_count": 8,
          "metadata": {},
          "output_type": "execute_result"
        }
      ],
      "source": [
        "# Integer array\n",
        "np.array([1, 4, 2, 5, 3])"
      ]
    },
    {
      "cell_type": "markdown",
      "metadata": {
        "id": "tp2xpWQ-CaH3"
      },
      "source": [
        "Remember that unlike Python lists, NumPy arrays can only contain data of the same type.\n",
        "If the types do not match, NumPy will upcast them according to its type promotion rules; here, integers are upcast to floating point:"
      ]
    },
    {
      "cell_type": "code",
      "execution_count": null,
      "metadata": {
        "jupyter": {
          "outputs_hidden": false
        },
        "id": "Hwd_x0aLCaH3",
        "outputId": "951574cd-651f-4b46-b003-5d63c944c93a"
      },
      "outputs": [
        {
          "data": {
            "text/plain": [
              "array([3.14, 4.  , 2.  , 3.  ])"
            ]
          },
          "execution_count": 9,
          "metadata": {},
          "output_type": "execute_result"
        }
      ],
      "source": [
        "np.array([3.14, 4, 2, 3])"
      ]
    },
    {
      "cell_type": "markdown",
      "metadata": {
        "id": "if83kxf_CaH4"
      },
      "source": [
        "If we want to explicitly set the data type of the resulting array, we can use the `dtype` keyword:"
      ]
    },
    {
      "cell_type": "code",
      "execution_count": null,
      "metadata": {
        "jupyter": {
          "outputs_hidden": false
        },
        "id": "2fvJHwhmCaH4",
        "outputId": "45856614-bfba-462b-e102-07b45b537aa0"
      },
      "outputs": [
        {
          "data": {
            "text/plain": [
              "array([1., 2., 3., 4.], dtype=float32)"
            ]
          },
          "execution_count": 10,
          "metadata": {},
          "output_type": "execute_result"
        }
      ],
      "source": [
        "np.array([1, 2, 3, 4], dtype=np.float32)"
      ]
    },
    {
      "cell_type": "markdown",
      "metadata": {
        "id": "HKrpRF6UCaH4"
      },
      "source": [
        "Finally, unlike Python lists, which are always one-dimensional sequences, NumPy arrays can be multidimensional. Here's one way of initializing a multidimensional array using a list of lists:"
      ]
    },
    {
      "cell_type": "code",
      "execution_count": null,
      "metadata": {
        "jupyter": {
          "outputs_hidden": false
        },
        "id": "O1REXpj3CaH4",
        "outputId": "0fae926e-2e78-45e4-cddd-e56df1db8cf3"
      },
      "outputs": [
        {
          "data": {
            "text/plain": [
              "array([[2, 3, 4],\n",
              "       [4, 5, 6],\n",
              "       [6, 7, 8]])"
            ]
          },
          "execution_count": 11,
          "metadata": {},
          "output_type": "execute_result"
        }
      ],
      "source": [
        "# Nested lists result in multidimensional arrays\n",
        "np.array([range(i, i + 3) for i in [2, 4, 6]])"
      ]
    },
    {
      "cell_type": "markdown",
      "metadata": {
        "id": "ykO2ZphJCaH4"
      },
      "source": [
        "The inner lists are treated as rows of the resulting two-dimensional array."
      ]
    },
    {
      "cell_type": "markdown",
      "metadata": {
        "id": "HnnWgHeiCaH4"
      },
      "source": [
        "## Creating Arrays from Scratch\n",
        "\n",
        "Especially for larger arrays, it is more efficient to create arrays from scratch using routines built into NumPy.\n",
        "Here are several examples:"
      ]
    },
    {
      "cell_type": "code",
      "execution_count": null,
      "metadata": {
        "jupyter": {
          "outputs_hidden": false
        },
        "id": "aHfTxcL_CaH4",
        "outputId": "59f9918d-3cec-45cf-ce4f-878f37316068"
      },
      "outputs": [
        {
          "data": {
            "text/plain": [
              "array([0, 0, 0, 0, 0, 0, 0, 0, 0, 0])"
            ]
          },
          "execution_count": 12,
          "metadata": {},
          "output_type": "execute_result"
        }
      ],
      "source": [
        "# Create a length-10 integer array filled with 0s\n",
        "np.zeros(10, dtype=int)"
      ]
    },
    {
      "cell_type": "code",
      "execution_count": null,
      "metadata": {
        "jupyter": {
          "outputs_hidden": false
        },
        "id": "e3Stxg4gCaH4",
        "outputId": "01f981a7-a6e1-4831-a500-8f86c82a9aec"
      },
      "outputs": [
        {
          "data": {
            "text/plain": [
              "array([[1., 1., 1., 1., 1.],\n",
              "       [1., 1., 1., 1., 1.],\n",
              "       [1., 1., 1., 1., 1.]])"
            ]
          },
          "execution_count": 13,
          "metadata": {},
          "output_type": "execute_result"
        }
      ],
      "source": [
        "# Create a 3x5 floating-point array filled with 1s\n",
        "np.ones((3, 5), dtype=float)"
      ]
    },
    {
      "cell_type": "code",
      "execution_count": null,
      "metadata": {
        "jupyter": {
          "outputs_hidden": false
        },
        "id": "VLs9dDE4CaH5",
        "outputId": "38bf422c-2866-4d49-dea4-04c126f40b42"
      },
      "outputs": [
        {
          "data": {
            "text/plain": [
              "array([[3.14, 3.14, 3.14, 3.14, 3.14],\n",
              "       [3.14, 3.14, 3.14, 3.14, 3.14],\n",
              "       [3.14, 3.14, 3.14, 3.14, 3.14]])"
            ]
          },
          "execution_count": 14,
          "metadata": {},
          "output_type": "execute_result"
        }
      ],
      "source": [
        "# Create a 3x5 array filled with 3.14\n",
        "np.full((3, 5), 3.14)"
      ]
    },
    {
      "cell_type": "code",
      "execution_count": null,
      "metadata": {
        "jupyter": {
          "outputs_hidden": false
        },
        "id": "Js0lDnQoCaH5",
        "outputId": "eae4c199-da4c-460b-a393-45d97eda371a"
      },
      "outputs": [
        {
          "data": {
            "text/plain": [
              "array([ 0,  2,  4,  6,  8, 10, 12, 14, 16, 18])"
            ]
          },
          "execution_count": 15,
          "metadata": {},
          "output_type": "execute_result"
        }
      ],
      "source": [
        "# Create an array filled with a linear sequence\n",
        "# starting at 0, ending at 20, stepping by 2\n",
        "# (this is similar to the built-in range function)\n",
        "np.arange(0, 20, 2)"
      ]
    },
    {
      "cell_type": "code",
      "execution_count": null,
      "metadata": {
        "jupyter": {
          "outputs_hidden": false
        },
        "id": "SQcd_MSPCaH5",
        "outputId": "a01e0afc-e537-46ec-c612-78c122edde0a"
      },
      "outputs": [
        {
          "data": {
            "text/plain": [
              "array([0.  , 0.25, 0.5 , 0.75, 1.  ])"
            ]
          },
          "execution_count": 16,
          "metadata": {},
          "output_type": "execute_result"
        }
      ],
      "source": [
        "# Create an array of five values evenly spaced between 0 and 1\n",
        "np.linspace(0, 1, 5)"
      ]
    },
    {
      "cell_type": "code",
      "execution_count": null,
      "metadata": {
        "jupyter": {
          "outputs_hidden": false
        },
        "id": "gDAUibbMCaH5",
        "outputId": "7e7346dc-7ffa-47e1-da20-3e4a4c7de0c4"
      },
      "outputs": [
        {
          "data": {
            "text/plain": [
              "array([[0.09610171, 0.88193001, 0.70548015],\n",
              "       [0.35885395, 0.91670468, 0.8721031 ],\n",
              "       [0.73237865, 0.09708562, 0.52506779]])"
            ]
          },
          "execution_count": 17,
          "metadata": {},
          "output_type": "execute_result"
        }
      ],
      "source": [
        "# Create a 3x3 array of uniformly distributed\n",
        "# pseudorandom values between 0 and 1\n",
        "np.random.random((3, 3))"
      ]
    },
    {
      "cell_type": "code",
      "execution_count": null,
      "metadata": {
        "jupyter": {
          "outputs_hidden": false
        },
        "id": "Xai6_o5iCaH5",
        "outputId": "6e4769bd-4d6f-4130-d9f2-22e4ce6dfef9"
      },
      "outputs": [
        {
          "data": {
            "text/plain": [
              "array([[-0.46652655, -0.59158776, -1.05392451],\n",
              "       [-1.72634268,  0.03194069, -0.51048869],\n",
              "       [ 1.41240208,  1.77734462, -0.43820037]])"
            ]
          },
          "execution_count": 18,
          "metadata": {},
          "output_type": "execute_result"
        }
      ],
      "source": [
        "# Create a 3x3 array of normally distributed pseudorandom\n",
        "# values with mean 0 and standard deviation 1\n",
        "np.random.normal(0, 1, (3, 3))"
      ]
    },
    {
      "cell_type": "code",
      "execution_count": null,
      "metadata": {
        "jupyter": {
          "outputs_hidden": false
        },
        "id": "zEKKKcw1CaH5",
        "outputId": "da3e5436-86f3-4194-ffb0-de026b4c2699"
      },
      "outputs": [
        {
          "data": {
            "text/plain": [
              "array([[4, 3, 8],\n",
              "       [6, 5, 0],\n",
              "       [1, 1, 4]])"
            ]
          },
          "execution_count": 19,
          "metadata": {},
          "output_type": "execute_result"
        }
      ],
      "source": [
        "# Create a 3x3 array of pseudorandom integers in the interval [0, 10)\n",
        "np.random.randint(0, 10, (3, 3))"
      ]
    },
    {
      "cell_type": "code",
      "execution_count": null,
      "metadata": {
        "jupyter": {
          "outputs_hidden": false
        },
        "id": "Yo7A9Wg7CaH8",
        "outputId": "9a2a3525-6907-4109-eee7-9a038ad3a6f7"
      },
      "outputs": [
        {
          "data": {
            "text/plain": [
              "array([[1., 0., 0.],\n",
              "       [0., 1., 0.],\n",
              "       [0., 0., 1.]])"
            ]
          },
          "execution_count": 20,
          "metadata": {},
          "output_type": "execute_result"
        }
      ],
      "source": [
        "# Create a 3x3 identity matrix\n",
        "np.eye(3)"
      ]
    },
    {
      "cell_type": "code",
      "execution_count": null,
      "metadata": {
        "jupyter": {
          "outputs_hidden": false
        },
        "id": "cEKVt0SsCaH9",
        "outputId": "90565bce-f59d-46c8-8ecf-04286a72ef1d"
      },
      "outputs": [
        {
          "data": {
            "text/plain": [
              "array([1., 1., 1.])"
            ]
          },
          "execution_count": 21,
          "metadata": {},
          "output_type": "execute_result"
        }
      ],
      "source": [
        "# Create an uninitialized array of three integers; the values will be\n",
        "# whatever happens to already exist at that memory location\n",
        "np.empty(3)"
      ]
    },
    {
      "cell_type": "markdown",
      "metadata": {
        "id": "aJbY1abFCaH9"
      },
      "source": [
        "## NumPy Standard Data Types\n",
        "\n",
        "NumPy arrays contain values of a single type, so it is important to have detailed knowledge of those types and their limitations.\n",
        "Because NumPy is built in C, the types will be familiar to users of C, Fortran, and other related languages.\n",
        "\n",
        "The standard NumPy data types are listed in the following table.\n",
        "Note that when constructing an array, they can be specified using a string:\n",
        "\n",
        "```python\n",
        "np.zeros(10, dtype='int16')\n",
        "```\n",
        "\n",
        "Or using the associated NumPy object:\n",
        "\n",
        "```python\n",
        "np.zeros(10, dtype=np.int16)\n",
        "```"
      ]
    },
    {
      "cell_type": "markdown",
      "metadata": {
        "id": "HDSwRIxhCaH9"
      },
      "source": [
        "| Data type\t | Description |\n",
        "|-------------|-------------|\n",
        "| `bool_`     | Boolean (True or False) stored as a byte |\n",
        "| `int_`      | Default integer type (same as C `long`; normally either `int64` or `int32`)|\n",
        "| `intc`      | Identical to C `int` (normally `int32` or `int64`)|\n",
        "| `intp`      | Integer used for indexing (same as C `ssize_t`; normally either `int32` or `int64`)|\n",
        "| `int8`      | Byte (–128 to 127)|\n",
        "| `int16`     | Integer (–32768 to 32767)|\n",
        "| `int32`     | Integer (–2147483648 to 2147483647)|\n",
        "| `int64`     | Integer (–9223372036854775808 to 9223372036854775807)|\n",
        "| `uint8`     | Unsigned integer (0 to 255)|\n",
        "| `uint16`    | Unsigned integer (0 to 65535)|\n",
        "| `uint32`    | Unsigned integer (0 to 4294967295)|\n",
        "| `uint64`    | Unsigned integer (0 to 18446744073709551615)|\n",
        "| `float_`    | Shorthand for `float64`|\n",
        "| `float16`   | Half-precision float: sign bit, 5 bits exponent, 10 bits mantissa|\n",
        "| `float32`   | Single-precision float: sign bit, 8 bits exponent, 23 bits mantissa|\n",
        "| `float64`   | Double-precision float: sign bit, 11 bits exponent, 52 bits mantissa|\n",
        "| `complex_`  | Shorthand for `complex128`|\n",
        "| `complex64` | Complex number, represented by two 32-bit floats|\n",
        "| `complex128`| Complex number, represented by two 64-bit floats|"
      ]
    },
    {
      "cell_type": "markdown",
      "metadata": {
        "id": "fdfV6sV5CaH9"
      },
      "source": [
        "More advanced type specification is possible, such as specifying big- or little-endian numbers; for more information, refer to the [NumPy documentation](http://numpy.org/).\n",
        "NumPy also supports compound data types, which will be covered in [Structured Data: NumPy's Structured Arrays](02.09-Structured-Data-NumPy.ipynb)."
      ]
    }
  ],
  "metadata": {
    "anaconda-cloud": {},
    "jupytext": {
      "formats": "ipynb,md"
    },
    "kernelspec": {
      "display_name": "Python 3",
      "language": "python",
      "name": "python3"
    },
    "language_info": {
      "codemirror_mode": {
        "name": "ipython",
        "version": 3
      },
      "file_extension": ".py",
      "mimetype": "text/x-python",
      "name": "python",
      "nbconvert_exporter": "python",
      "pygments_lexer": "ipython3",
      "version": "3.9.2"
    },
    "colab": {
      "provenance": []
    }
  },
  "nbformat": 4,
  "nbformat_minor": 0
}