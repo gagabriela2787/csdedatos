{
  "nbformat": 4,
  "nbformat_minor": 0,
  "metadata": {
    "colab": {
      "provenance": [],
      "include_colab_link": true
    },
    "kernelspec": {
      "name": "python3",
      "display_name": "Python 3"
    },
    "language_info": {
      "name": "python"
    }
  },
  "cells": [
    {
      "cell_type": "markdown",
      "metadata": {
        "id": "view-in-github",
        "colab_type": "text"
      },
      "source": [
        "<a href=\"https://colab.research.google.com/github/gagabriela2787/csdedatos/blob/main/numpyej.ipynb\" target=\"_parent\"><img src=\"https://colab.research.google.com/assets/colab-badge.svg\" alt=\"Open In Colab\"/></a>"
      ]
    },
    {
      "cell_type": "markdown",
      "source": [
        "#Numpy\n",
        "\n"
      ],
      "metadata": {
        "id": "kKCYdyUGi7iX"
      }
    },
    {
      "cell_type": "code",
      "execution_count": null,
      "metadata": {
        "id": "CcjiGRdki57i"
      },
      "outputs": [],
      "source": [
        "#importar numpy\n",
        "import numpy as np\n"
      ]
    },
    {
      "cell_type": "code",
      "source": [
        "#crear un arreglo unidimesional\n",
        "arreglo1=np.array([1,2,3,4,5])\n",
        "print(arreglo1)"
      ],
      "metadata": {
        "id": "xB6hGrSApaHk"
      },
      "execution_count": null,
      "outputs": []
    },
    {
      "cell_type": "code",
      "source": [
        "#crear arreglo de dos dimensiones\n",
        "matrix=np.array([[1,2,3],[4,5,6]])\n",
        "print(matrix)"
      ],
      "metadata": {
        "id": "u9I_UUfLqOJV"
      },
      "execution_count": null,
      "outputs": []
    },
    {
      "cell_type": "code",
      "source": [
        "arreglo3=np.array([matrix, matrix])\n",
        "print(arreglo3)"
      ],
      "metadata": {
        "id": "ddmTvQ-Hq6jV"
      },
      "execution_count": null,
      "outputs": []
    },
    {
      "cell_type": "code",
      "source": [
        "#uso de arange\n",
        "a=np.arange(1,11)\n",
        "print(a)\n",
        "\n",
        "print(\"ndim: \", a.ndim)\n",
        "print(\"shape:\", a.shape)\n",
        "print(\"size: \", a.size)\n"
      ],
      "metadata": {
        "id": "WFW-rsl6wItU"
      },
      "execution_count": null,
      "outputs": []
    },
    {
      "cell_type": "markdown",
      "source": [
        "Ejercicio:\n",
        "Crear una matriz de 3 filas y 5 columnas,\n",
        "\n",
        " completados con los numeros del 1 al 15.\n"
      ],
      "metadata": {
        "id": "5vHddKiAsJb6"
      }
    },
    {
      "cell_type": "code",
      "source": [
        "matriz = np.arange(1, 10).reshape(3, 3)\n",
        "print(matriz)"
      ],
      "metadata": {
        "id": "hgA-HKnTwr0G"
      },
      "execution_count": null,
      "outputs": []
    },
    {
      "cell_type": "code",
      "source": [
        "print(\"ndim: \", matriz.ndim)\n",
        "print(\"shape:\", matriz.shape)\n",
        "print(\"size: \", matriz.size)"
      ],
      "metadata": {
        "id": "m-R2IPag7Uwp"
      },
      "execution_count": null,
      "outputs": []
    },
    {
      "cell_type": "code",
      "source": [
        "# creando un arreglo con 0\n",
        "arreglo=np.zeros((4,5))\n",
        "print(arreglo)"
      ],
      "metadata": {
        "id": "hwku0ppPo7Hp"
      },
      "execution_count": null,
      "outputs": []
    },
    {
      "cell_type": "code",
      "source": [
        "print(\"ndim: \", arreglo.ndim)\n",
        "print(\"shape:\", arreglo.shape)\n",
        "print(\"size: \", arreglo.size)"
      ],
      "metadata": {
        "id": "RvuOUnoDEXre"
      },
      "execution_count": null,
      "outputs": []
    },
    {
      "cell_type": "code",
      "source": [
        "# hacer lo mismo pero con una matriz"
      ],
      "metadata": {
        "id": "ssGAhkBZq3sq"
      },
      "execution_count": null,
      "outputs": []
    },
    {
      "cell_type": "code",
      "source": [
        "#creando un arreglo con 1\n",
        "arreglo=np.ones((2,3))\n",
        "print(arreglo)"
      ],
      "metadata": {
        "id": "z0jRy_rfpbq9"
      },
      "execution_count": null,
      "outputs": []
    },
    {
      "cell_type": "code",
      "source": [
        "#creando un arreglo con un mismo numero\n",
        "arreglo=np.full(9,3)\n",
        "print(arreglo)"
      ],
      "metadata": {
        "id": "Q1ToBpr-plpZ"
      },
      "execution_count": null,
      "outputs": []
    },
    {
      "cell_type": "code",
      "source": [
        "#Crear un arreglo con valores uniformemente espaciados\n",
        "arreglo=np.linspace(1, 2, 5)\n",
        "print(arreglo)"
      ],
      "metadata": {
        "id": "qXOf0XEwrsvf"
      },
      "execution_count": null,
      "outputs": []
    },
    {
      "cell_type": "markdown",
      "source": [
        "Crear un matrix de 4 filas y 5 columnas\n",
        "\n",
        "\n",
        "\n",
        "\n",
        ", llena completamente del mismo valor 5.\n"
      ],
      "metadata": {
        "id": "bnV275Eox2jl"
      }
    },
    {
      "cell_type": "markdown",
      "source": [
        "# Numeros aleatorios con NumPy"
      ],
      "metadata": {
        "id": "OUREH8VPrPDX"
      }
    },
    {
      "cell_type": "code",
      "source": [
        "# generar arreglo con nros enteros valor inicial,valor final, tamaño\n",
        "x = np.random.randint(1,10,size=10)\n",
        "\n",
        "print(x)\n"
      ],
      "metadata": {
        "id": "KXfg9pn0vL0I"
      },
      "execution_count": null,
      "outputs": []
    },
    {
      "cell_type": "code",
      "source": [
        "#nros aleatorios entre 0 y 1\n",
        "b=np.random.rand(25)\n",
        "print(b)"
      ],
      "metadata": {
        "id": "nwCOp2tHw0X8"
      },
      "execution_count": null,
      "outputs": []
    },
    {
      "cell_type": "markdown",
      "source": [
        "Crear un arreglo tipo matriz de 5 filas y 3 columnas con numeros aleatorios entre 5 y 6."
      ],
      "metadata": {
        "id": "wMhpKaP22fX_"
      }
    },
    {
      "cell_type": "markdown",
      "source": [
        "# Operando sobre arreglos"
      ],
      "metadata": {
        "id": "FwhG9gRDxCWj"
      }
    },
    {
      "cell_type": "code",
      "source": [
        "a=np.array([1,2,3,4,5])\n",
        "\n",
        "b=a**3\n",
        "\n",
        "print(b)"
      ],
      "metadata": {
        "id": "uMhgdRS4wax4"
      },
      "execution_count": null,
      "outputs": []
    },
    {
      "cell_type": "code",
      "source": [
        "#podemos operar vectorialmente, siempre que sean de las mismos tamaños\n",
        "c=np.array([6,7,8,9,10])\n",
        "\n",
        "d=a+c\n",
        "\n",
        "print(d)"
      ],
      "metadata": {
        "id": "jRTgWiJfxnpk"
      },
      "execution_count": null,
      "outputs": []
    },
    {
      "cell_type": "code",
      "source": [
        "arr = np.array([1,2,3,4,5])\n",
        "random_elements = np.random.choice(arr, size=(7,9))\n",
        "\n",
        "print(random_elements)"
      ],
      "metadata": {
        "id": "O1dJZ3dW1pKs"
      },
      "execution_count": null,
      "outputs": []
    },
    {
      "cell_type": "markdown",
      "source": [
        "Ejercicio crear una arreglo con los primeros 11 nros primos, y luego usarlo como insumo para generar una matriz de 4 filas y 7 columnas"
      ],
      "metadata": {
        "id": "38EZK2lf3TMs"
      }
    },
    {
      "cell_type": "code",
      "source": [
        "arr= np.array([2,3,5,7,11,13,17,19,23,29,31])\n",
        "random_elements=np.random.choice(arr,size=(4,7))\n",
        "print(random_elements)"
      ],
      "metadata": {
        "id": "-9fmnYaPXoZd"
      },
      "execution_count": null,
      "outputs": []
    },
    {
      "cell_type": "markdown",
      "source": [
        "#Manipulando arrays\n",
        "De manera muy parecida a las listas, los ndarrays permiten hacer slicing con []. Sus índices empiezan en 0.\n",
        "\n"
      ],
      "metadata": {
        "id": "tpLVHIWh4Dc6"
      }
    },
    {
      "cell_type": "code",
      "source": [
        "matrix_cool = np.arange(9).reshape(3, 3)\n",
        "print(matrix_cool)"
      ],
      "metadata": {
        "id": "EJXzRoWF2-i7"
      },
      "execution_count": null,
      "outputs": []
    },
    {
      "cell_type": "code",
      "source": [
        "print(matrix_cool[1,2])\n"
      ],
      "metadata": {
        "id": "qUKVw0MM4R_6"
      },
      "execution_count": null,
      "outputs": []
    },
    {
      "cell_type": "code",
      "source": [
        "print(matrix_cool[0, :])\n"
      ],
      "metadata": {
        "id": "h1kYDAi54V4P"
      },
      "execution_count": null,
      "outputs": []
    },
    {
      "cell_type": "code",
      "source": [
        "print(matrix_cool[:, 1])\n"
      ],
      "metadata": {
        "id": "O5VBfebI40cJ"
      },
      "execution_count": null,
      "outputs": []
    },
    {
      "cell_type": "code",
      "source": [
        "print(matrix_cool[0:2, 0:2])\n"
      ],
      "metadata": {
        "id": "HMQCczDk422P"
      },
      "execution_count": null,
      "outputs": []
    },
    {
      "cell_type": "code",
      "source": [
        "print(matrix_cool[:, :])\n"
      ],
      "metadata": {
        "id": "lyeTorly5AXU"
      },
      "execution_count": null,
      "outputs": []
    },
    {
      "cell_type": "markdown",
      "source": [
        "Crear un arreglo de nro enteros aleatorios, entre 1 y 100,de 5 filas por 5 columnas, y devolver la matriz central de 3x3 elementos"
      ],
      "metadata": {
        "id": "XmF6FkEl5G3B"
      }
    },
    {
      "cell_type": "code",
      "source": [
        "matriz = np.random.randint(1, 101, size=(5, 5))\n",
        "\n",
        "print(\"Matriz original:\")\n",
        "print(matriz)\n",
        "\n",
        "\n",
        "matriz_central = matriz[1:4, 1:4]\n",
        "\n",
        "print(\"\\nMatriz central:\")\n",
        "print(matriz_central)"
      ],
      "metadata": {
        "id": "Yu8_mcJTbtPg"
      },
      "execution_count": null,
      "outputs": []
    },
    {
      "cell_type": "markdown",
      "source": [],
      "metadata": {
        "id": "yRcRWHCjZycK"
      }
    },
    {
      "cell_type": "markdown",
      "source": [
        "#Estadística"
      ],
      "metadata": {
        "id": "xiDxsgtR56k0"
      }
    },
    {
      "cell_type": "code",
      "source": [
        "height_list = [74, 74, 72, 72, 73, 69, 69, 71, 76, 71, 73, 73, 74, 74, 69, 70, 73, 75, 78, 79, 76, 74, 76, 72, 71, 75]\n",
        "print(np.mean(height_list))\n",
        "print(np.median(height_list))\n",
        "print(np.std(height_list))"
      ],
      "metadata": {
        "id": "76J6QO9p6CXg"
      },
      "execution_count": null,
      "outputs": []
    },
    {
      "cell_type": "code",
      "source": [
        "#minimos y maximos\n",
        "print(np.max(height_list))\n",
        "print(np.min(height_list))"
      ],
      "metadata": {
        "id": "Uja3tMtN6dOL"
      },
      "execution_count": null,
      "outputs": []
    },
    {
      "cell_type": "markdown",
      "source": [
        ".rand() y .uniform()\n",
        ".rand(): números aleatorios en una distribución uniforme. Permite crear ndarrays.\n",
        ".uniform(): igual que rand, pero permite ingresar los límites de la muestra."
      ],
      "metadata": {
        "id": "fjI7WkvW0e4R"
      }
    },
    {
      "cell_type": "markdown",
      "source": [
        "#Numpy: Unión y Separación de Arrays (arreglos) para Procesar Datos\n"
      ],
      "metadata": {
        "id": "6gzaQJmY2YjM"
      }
    },
    {
      "cell_type": "code",
      "source": [
        "peso=np.array([56,78,97,45,68])\n",
        "\n",
        "altura=np.array([1.80,1.55,1.75,1.67,1.81])\n",
        "\n",
        "print(np.stack((peso,altura))) #por defecto toma el eje 0 o x"
      ],
      "metadata": {
        "id": "qwgwqZ0q2Tzm"
      },
      "execution_count": null,
      "outputs": []
    },
    {
      "cell_type": "code",
      "source": [
        "print(np.stack((peso,altura),axis=1))"
      ],
      "metadata": {
        "id": "SEaA2TMJ4CBI"
      },
      "execution_count": null,
      "outputs": []
    },
    {
      "cell_type": "markdown",
      "source": [
        "Ejercicio crear tres arreglos con valores aleatorios de temp para los meses de ene(22,42) feb(20,37) marzo(18,30) (7 valores primera semana de cada mes).Como ayuda por ejemplo temp min max: Unirlos en uno solo de 3 filas."
      ],
      "metadata": {
        "id": "MpMPW9wn40Yk"
      }
    },
    {
      "cell_type": "code",
      "source": [
        "# Valores aleatorios para enero (22.0, 42.0) redondeados a 1 decimal\n",
        "enero = np.round(np.random.uniform(22.0, 42.0, size=7), decimals=1)\n",
        "print(enero)\n",
        "# Valores aleatorios para febrero (20.0, 37.0) redondeados a 1 decimal\n",
        "febrero = np.round(np.random.uniform(20.0, 37.0, size=7), decimals=1)\n",
        "print(febrero)\n",
        "# Valores aleatorios para marzo (18.0, 30.0) redondeados a 1 decimal\n",
        "marzo = np.round(np.random.uniform(18.0, 30.0, size=7), decimals=1)\n",
        "print(marzo)\n",
        "# Apilar verticalmente los valores de temperatura\n",
        "temperaturas = np.vstack((enero, febrero, marzo))\n",
        "print(temperaturas )\n",
        "print(np.min(enero))\n",
        "print(np.max(enero))\n",
        "print(np.min(febrero))\n",
        "print(np.max(febrero))\n",
        "print(np.min(marzo))\n",
        "print(np.max(marzo))"
      ],
      "metadata": {
        "id": "HgHWKSwOayI9"
      },
      "execution_count": null,
      "outputs": []
    },
    {
      "cell_type": "code",
      "source": [
        "#concatenar sin aumentar las dimensiones\n",
        "print(np.concatenate((peso,altura)))"
      ],
      "metadata": {
        "id": "0550xNno4SSw"
      },
      "execution_count": null,
      "outputs": []
    },
    {
      "cell_type": "code",
      "source": [
        "# dividir un arreglo\n",
        "\n",
        "arr = np.array([1, 2, 3, 4, 5, 6])\n",
        "\n",
        "newarr = np.array_split(arr, 3)\n",
        "# se genera una lista de 3 elementos del tipo array\n",
        "print(newarr)\n"
      ],
      "metadata": {
        "id": "dQrmjgrD89Bk"
      },
      "execution_count": null,
      "outputs": []
    },
    {
      "cell_type": "code",
      "source": [
        "\n",
        "print(newarr[0])\n",
        "print(newarr[1])\n",
        "print(newarr[2])"
      ],
      "metadata": {
        "id": "YpSmwySM-ye9"
      },
      "execution_count": null,
      "outputs": []
    },
    {
      "cell_type": "markdown",
      "source": [
        "Crear dos arreglos denominados primer_sem y segundo_sem. Ambos contienen datos de la inflación mensual del 2022.Utilizar los datos del indec. Luego unirlos en un solo arreglo denominado \"anual\". Tomar el arreglo creado y dividirlo en trimestres, y mostrar los datos de inflación del primer y el último trimestre."
      ],
      "metadata": {
        "id": "OBDRkqQI-30c"
      }
    },
    {
      "cell_type": "code",
      "source": [
        "primer_sem=np.array([3.9,4.7,6.7,6.0,5.1,5.3])\n",
        "\n",
        "segundo_sem=np.array([7.4,7.0,6.2,6.3,4.9,5.1])\n",
        "\n",
        "anual=np.concatenate((primer_sem,segundo_sem))\n",
        "\n",
        "trimestre=np.array_split(anual,4)\n",
        "\n",
        "print(anual)\n",
        "print(trimestre)\n",
        "print( \"La inflación del primer trimestre es: \",trimestre[0])\n",
        "print(\"La inflación del cuarto trimestre es: \", trimestre[3])"
      ],
      "metadata": {
        "id": "mJIt5bUjfFYs"
      },
      "execution_count": null,
      "outputs": []
    },
    {
      "cell_type": "code",
      "source": [
        "primer_sem = np.array([3.9, 4.7, 6.7, 6.0, 5.1, 5.3])\n",
        "\n",
        "segundo_sem = np.array([7.4, 7.0, 6.2, 6.3, 4.9, 5.1])\n",
        "\n",
        "anual = np.concatenate((primer_sem, segundo_sem))\n",
        "print(anual)\n",
        "\n",
        "trimestres = np.split(anual, 4)\n",
        "print(trimestres)\n",
        "\n",
        "primer_trimestre = trimestres[0]\n",
        "ultimo_trimestre = trimestres[3]\n",
        "\n",
        "print(\"Inflación del primer trimestre:\", primer_trimestre)\n",
        "print(\"Inflación del último trimestre:\", ultimo_trimestre)"
      ],
      "metadata": {
        "id": "vF_FQZdEQ5_V"
      },
      "execution_count": null,
      "outputs": []
    },
    {
      "cell_type": "markdown",
      "source": [
        "# Distribuciones\n"
      ],
      "metadata": {
        "id": "jcOiNp05bhQA"
      }
    },
    {
      "cell_type": "code",
      "source": [
        "import numpy as np\n",
        "import matplotlib.pyplot as plt\n",
        "\n",
        "# Generar datos de una distribución normal\n",
        "media = 0  # Media de la distribución\n",
        "de = 1  # Desviación estándar de la distribución\n",
        "datos = np.random.normal(media, de, 1000)\n",
        "\n",
        "# Crear el histograma\n",
        "plt.hist(datos, bins=30, density=True)\n",
        "\"\"\"Cuando density=True, el histograma se normaliza de manera que el área total debajo del histograma sea igual a 1,\n",
        "lo que permite visualizar la función de densidad de probabilidad estimada de la distribución.\"\"\"\n",
        "\n",
        "# Personalizar el gráfico\n",
        "plt.title('Distribución Normal')\n",
        "plt.xlabel('Valores')\n",
        "plt.ylabel('Densidad')\n",
        "\n",
        "# Mostrar el gráfico\n",
        "plt.show()\n"
      ],
      "metadata": {
        "id": "w4zw40EDDY4I"
      },
      "execution_count": null,
      "outputs": []
    },
    {
      "cell_type": "code",
      "source": [
        "import numpy as np\n",
        "import matplotlib.pyplot as plt\n",
        "\n",
        "# Generar datos de una distribución uniforme\n",
        "a = 0  # Valor mínimo\n",
        "b = 10  # Valor máximo\n",
        "datos = np.random.uniform(a, b, 1000)\n",
        "\n",
        "# Crear el histograma\n",
        "plt.hist(datos, bins=30, density=True)\n",
        "\n",
        "# Personalizar el gráfico\n",
        "plt.title('Distribución Uniforme')\n",
        "plt.xlabel('Valores')\n",
        "plt.ylabel('Densidad')\n",
        "\n",
        "# Mostrar el gráfico\n",
        "plt.show()\n"
      ],
      "metadata": {
        "id": "mqRw-c8nFSYN"
      },
      "execution_count": null,
      "outputs": []
    },
    {
      "cell_type": "code",
      "source": [
        "# Generar datos de una distribución de Poisson\n",
        "lambd = 5  # Parámetro lambda de la distribución\n",
        "datos = np.random.poisson(lambd, 1000)\n",
        "\n",
        "# Crear el histograma\n",
        "plt.hist(datos, bins=30, density=True)\n",
        "\n",
        "# Personalizar el gráfico\n",
        "plt.title('Distribución de Poisson')\n",
        "plt.xlabel('Valores')\n",
        "plt.ylabel('Densidad')\n",
        "\n",
        "# Mostrar el gráfico\n",
        "plt.show()\n"
      ],
      "metadata": {
        "id": "HpGmh-C7GnNA"
      },
      "execution_count": null,
      "outputs": []
    },
    {
      "cell_type": "code",
      "source": [
        "# Generar datos de una distribución exponencial\n",
        "lambd = 0.5  # Parámetro lambda de la distribución\n",
        "datos = np.random.exponential(scale=1/lambd, size=1000)\n",
        "\n",
        "# Crear el histograma\n",
        "plt.hist(datos, bins=30, density=True)\n",
        "\n",
        "# Personalizar el gráfico\n",
        "plt.title('Distribución Exponencial')\n",
        "plt.xlabel('Valores')\n",
        "plt.ylabel('Densidad')\n",
        "\n",
        "# Mostrar el gráfico\n",
        "plt.show()\n"
      ],
      "metadata": {
        "id": "JwPfMHutGJb2"
      },
      "execution_count": null,
      "outputs": []
    },
    {
      "cell_type": "markdown",
      "source": [
        "#Ejercicio\n",
        "Graficar la altura promedio de argentina tomando como media 170 cm con una desviación standard de 12cm y 250 valores."
      ],
      "metadata": {
        "id": "TIQdJ6PgGw09"
      }
    },
    {
      "cell_type": "code",
      "source": [],
      "metadata": {
        "id": "T4RIPBfvGu6U"
      },
      "execution_count": null,
      "outputs": []
    },
    {
      "cell_type": "code",
      "source": [
        "arr = np.random.randint(1, 101, size=(5, 5))\n",
        "print(arr)\n",
        "print(\"__________________________\")\n",
        "matriz_cen = arr[1:4, 1:4]\n",
        "print(matriz_cen)"
      ],
      "metadata": {
        "id": "o9fn01kKN929"
      },
      "execution_count": null,
      "outputs": []
    },
    {
      "cell_type": "code",
      "source": [
        "arr = np.array([2, 3, 5, 7, 11, 13, 17, 19, 23,29,31])\n",
        "random_elements = np.random.choice(arr, size=(4,7))\n",
        "\n",
        "print(random_elements)"
      ],
      "metadata": {
        "id": "KcfPRTU5UUXS"
      },
      "execution_count": null,
      "outputs": []
    },
    {
      "cell_type": "code",
      "source": [
        "import numpy as np\n",
        "import matplotlib.pyplot as plt\n",
        "\n",
        "# Generar datos de ejemplo en 2D\n",
        "x = np.random.randn(1000)\n",
        "y = np.random.randn(1000)\n",
        "\n",
        "# Crear histograma en 2D\n",
        "plt.hist2d(x, y, bins=20)\n",
        "\n",
        "# Agregar etiquetas y título\n",
        "plt.xlabel('X')\n",
        "plt.ylabel('Y')\n",
        "plt.title('Histograma en 2D')\n",
        "\n",
        "# Mostrar el histograma\n",
        "plt.colorbar()\n",
        "plt.show()\n"
      ],
      "metadata": {
        "id": "8_bnwTwr9Yhm"
      },
      "execution_count": null,
      "outputs": []
    },
    {
      "cell_type": "code",
      "source": [
        "import numpy as np\n",
        "import matplotlib.pyplot as plt\n",
        "\n",
        "# Generar datos de ejemplo en 3D\n",
        "x = np.random.randn(1000)\n",
        "y = np.random.randn(1000)\n",
        "z = np.random.randn(1000)\n",
        "\n",
        "# Crear histograma en 3D\n",
        "fig = plt.figure()\n",
        "ax = fig.add_subplot(111, projection='3d')\n",
        "hist, xedges, yedges = np.histogram2d(x, y, bins=20)\n",
        "xpos, ypos = np.meshgrid(xedges[:-1], yedges[:-1], indexing='ij')\n",
        "xpos = xpos.ravel()\n",
        "ypos = ypos.ravel()\n",
        "zpos = 0\n",
        "\n",
        "# Definir el ancho de las barras en el histograma\n",
        "dx = dy = 0.8 * (xedges[1] - xedges[0])\n",
        "dz = hist.ravel()\n",
        "ax.bar3d(xpos, ypos, zpos, dx, dy, dz)\n",
        "\n",
        "# Agregar etiquetas y título\n",
        "ax.set_xlabel('X')\n",
        "ax.set_ylabel('Y')\n",
        "ax.set_zlabel('Frecuencia')\n",
        "ax.set_title('Histograma en 3D')\n",
        "\n",
        "# Mostrar el histograma\n",
        "plt.show()\n"
      ],
      "metadata": {
        "id": "c_BKKh8s9mEN"
      },
      "execution_count": null,
      "outputs": []
    },
    {
      "cell_type": "code",
      "source": [
        "# Creando gráficos de linea\n",
        "\n",
        "import matplotlib.pyplot as plt\n",
        "\n",
        "# Datos\n",
        "x = [1, 2, 3, 4, 5]\n",
        "y = [2, 4, 6, 8, 10]\n",
        "\n",
        "# Crear gráfico de línea\n",
        "plt.plot(x, y)\n",
        "\n",
        "# Personalizar el gráfico\n",
        "plt.title(\"Gráfico de línea\")\n",
        "\n",
        "plt.xlabel(\"Eje X\")\n",
        "plt.ylabel(\"Eje Y\")\n",
        "\n",
        "# Mostrar el gráfico\n",
        "plt.show()\n"
      ],
      "metadata": {
        "id": "Cf29jj-c3BNw"
      },
      "execution_count": null,
      "outputs": []
    },
    {
      "cell_type": "code",
      "source": [
        "# Datos para el gráfico de línea\n",
        "meses = ['Enero', 'Febrero', 'Marzo', 'Abril', 'Mayo']\n",
        "ventas = [100, 150, 120, 200, 180]\n",
        "\n",
        "# Crear el gráfico de línea\n",
        "plt.plot(meses, ventas)\n",
        "\n",
        "# Personalizar el gráfico\n",
        "plt.title('Ventas Mensuales')\n",
        "plt.xlabel('Meses')\n",
        "plt.ylabel('Ventas')\n",
        "\n",
        "# Mostrar el gráfico\n",
        "plt.show()\n"
      ],
      "metadata": {
        "id": "3eX78aA86SrT"
      },
      "execution_count": null,
      "outputs": []
    },
    {
      "cell_type": "code",
      "source": [
        "anio=[2015,2016,2017,2018,2019,2020,2021,2022]\n",
        "poblacion=[40,40.7,41.1,42.01,42.9,43.4,44,44.5]\n",
        "\n",
        "plt.plot(anio,poblacion)\n",
        "plt.show()\n"
      ],
      "metadata": {
        "id": "AG9hh4MRw5i-"
      },
      "execution_count": null,
      "outputs": []
    },
    {
      "cell_type": "code",
      "source": [
        "anio=[2015,2016,2017,2018,2019,2020,2021,2022]\n",
        "poblacion=[40,40.7,41.1,42.01,42.9,43.4,44,44.5]\n",
        "\n",
        "anio1=[2015,2016,2017,2018,2019,2020,2021,2022]\n",
        "poblacion1=[41,42.7,43.1,44.01,45.9,46.4,47,48.5]\n",
        "\n",
        "plt.plot(anio,poblacion, color=\"r\")\n",
        "\n",
        "plt.plot(anio1,poblacion1, color=\"g\")\n",
        "\n",
        "plt.show()"
      ],
      "metadata": {
        "id": "p8vtA5OsumW9"
      },
      "execution_count": null,
      "outputs": []
    },
    {
      "cell_type": "code",
      "source": [],
      "metadata": {
        "id": "ItB7I2LIxtuL"
      },
      "execution_count": null,
      "outputs": []
    },
    {
      "cell_type": "code",
      "source": [
        "anio=[2015,2016,2017,2018,2019,2020,2021,2022]\n",
        "poblacion=[40,40.7,41.1,42.01,42.9,43.4,44,44.5]\n",
        "\n",
        "anio1=[2015,2016,2017,2018,2019,2020,2021,2022]\n",
        "poblacion1=[41,42.7,43.1,44.01,45.9,46.4,47,48.5]\n",
        "\n",
        "plt.plot(anio,poblacion, color=\"r\")\n",
        "plt.plot(anio1,poblacion1, color=\"g\")\n",
        "\n",
        "plt.xlabel(\"AÑOS\")\n",
        "plt.ylabel(\"POB. EN MILLONES\")\n",
        "plt.title(\"Crecimiento poblacional años 2015-2022\")\n",
        "\n",
        "plt.show()"
      ],
      "metadata": {
        "id": "2oVtRf5JxuJk"
      },
      "execution_count": null,
      "outputs": []
    },
    {
      "cell_type": "code",
      "source": [
        "# Crear gráfico de dispersión\n",
        "\n",
        "# Datos\n",
        "x = [1, 2, 3, 4, 5]\n",
        "y = [2, 4, 6, 8, 10]\n",
        "\n",
        "# Crear gráfico de dispersión\n",
        "plt.scatter(x, y)\n",
        "\n",
        "# Personalizar el gráfico\n",
        "plt.title(\"Gráfico de dispersión\")\n",
        "plt.xlabel(\"Eje X\")\n",
        "plt.ylabel(\"Eje Y\")\n",
        "\n",
        "# Mostrar el gráfico\n",
        "plt.show()\n"
      ],
      "metadata": {
        "id": "zmfoPwkv3LzW"
      },
      "execution_count": null,
      "outputs": []
    },
    {
      "cell_type": "code",
      "source": [
        "# Datos para el gráfico de dispersión\n",
        "estudiantes = ['María', 'José', 'Pedro', 'Miguel', 'Josefina']\n",
        "matematicas = [80, 75, 90, 65, 85]\n",
        "quimica = [70, 85, 95, 80, 60]\n",
        "\n",
        "# Crear el gráfico de dispersión\n",
        "plt.scatter(matematicas, quimica)\n",
        "\n",
        "# Personalizar el gráfico\n",
        "plt.title('Calificaciones de Estudiantes')\n",
        "plt.xlabel('Matemáticas')\n",
        "plt.ylabel('Química')\n",
        "\n",
        "# Etiquetar cada punto con el nombre del estudiante\n",
        "for i in range(len(estudiantes)):\n",
        "    plt.annotate(estudiantes[i], (matematicas[i], quimica[i]))\n",
        "\n",
        "# Mostrar el gráfico\n",
        "plt.show()\n"
      ],
      "metadata": {
        "id": "E35rKp1v-1LY"
      },
      "execution_count": null,
      "outputs": []
    },
    {
      "cell_type": "code",
      "source": [
        "# Crear gráfico de barras\n",
        "# Datos\n",
        "categorias = ['A', 'B', 'C', 'D', 'E']\n",
        "valores = [15, 10, 7, 12, 9]\n",
        "\n",
        "# Crear gráfico de barras\n",
        "plt.bar(categorias, valores)\n",
        "\n",
        "# Personalizar el gráfico\n",
        "plt.title(\"Gráfico de barras\")\n",
        "plt.xlabel(\"Categorías\")\n",
        "plt.ylabel(\"Valores\")\n",
        "\n",
        "# Mostrar el gráfico\n",
        "plt.show()\n"
      ],
      "metadata": {
        "id": "3HRVf_AC3TfP"
      },
      "execution_count": null,
      "outputs": []
    },
    {
      "cell_type": "code",
      "source": [
        "# Datos para el gráfico de barras\n",
        "meses = ['Enero', 'Febrero', 'Marzo', 'Abril', 'Mayo']\n",
        "temperaturas = [27.3, 25.6, 23.8, 22.1, 20.5]\n",
        "\n",
        "# Crear el gráfico de barras\n",
        "plt.bar(meses, temperaturas)\n",
        "\n",
        "# Personalizar el gráfico\n",
        "plt.title('Temperaturas Promedio por Mes')\n",
        "plt.xlabel('Meses')\n",
        "plt.ylabel('Temperatura (°C)')\n",
        "\n",
        "# Mostrar el gráfico\n",
        "plt.show()\n"
      ],
      "metadata": {
        "id": "3qCdcIGb8egi"
      },
      "execution_count": null,
      "outputs": []
    },
    {
      "cell_type": "code",
      "source": [
        "# Crear gráficos de torta\n",
        "\n",
        "\n",
        "# Datos para el gráfico de torta\n",
        "etiquetas = ['Manzanas', 'Plátanos', 'Naranjas', 'Mangos']\n",
        "cantidades = [30, 45, 25, 20]\n",
        "\n",
        "# Crear el gráfico de torta\n",
        "plt.pie(cantidades, labels=etiquetas)\n",
        "\n",
        "# Personalizar el gráfico\n",
        "plt.title('Distribución de Frutas')\n",
        "\n",
        "# Mostrar el gráfico\n",
        "plt.show()\n",
        "\n",
        "\n"
      ],
      "metadata": {
        "id": "YpmMpo5e5ddE"
      },
      "execution_count": null,
      "outputs": []
    },
    {
      "cell_type": "code",
      "source": [
        "# Datos para el gráfico de torta\n",
        "etiquetas = ['Gatos', 'Perros', 'Pájaros', 'Peces']\n",
        "cantidades = [35, 45, 15, 5]\n",
        "\n",
        "# Explode: searación de una porción\n",
        "explode = (0.1, 0, 0, 0)\n",
        "\n",
        "# Crear el gráfico de torta\n",
        "plt.pie(cantidades, labels=etiquetas, explode=explode, autopct='%1.1f%%')\n",
        "# La variable explode se utiliza para destacar una porción del gráfico separándola del resto.\n",
        "#El parámetro autopct se utiliza para mostrar los porcentajes en cada porción (cant.decimales y simbolo %).\n",
        "\n",
        "# Personalizar el gráfico\n",
        "plt.title('Distribución de Mascotas en los hogares argentinos')\n",
        "\n",
        "# Mostrar el gráfico\n",
        "plt.show()\n"
      ],
      "metadata": {
        "id": "sQ3JFdb37omJ"
      },
      "execution_count": null,
      "outputs": []
    },
    {
      "cell_type": "markdown",
      "source": [
        "# Ejercicio\n",
        "Sobre la siguiente información realizar 3 gráficos.\n",
        "![image.png](data:image/png;base64,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)"
      ],
      "metadata": {
        "id": "OlA7tLxyBmb-"
      }
    },
    {
      "cell_type": "code",
      "source": [
        "#Evaluando condiciones con arreglos\n",
        "\n",
        "# Crear un arreglo de ejemplo\n",
        "arreglo = np.array([1, 2, 3, 4, 5, 6, 7, 8, 9, 10])\n",
        "\n",
        "# Evaluar el arreglo por una condición\n",
        "condicion = arreglo > 5\n",
        "\n",
        "# Obtener los elementos del arreglo que cumplen la condición\n",
        "elementos_cumplen_condicion = arreglo[condicion]\n",
        "\n",
        "print(elementos_cumplen_condicion)\n"
      ],
      "metadata": {
        "id": "dD18KrZ3CJtL"
      },
      "execution_count": null,
      "outputs": []
    }
  ]
}