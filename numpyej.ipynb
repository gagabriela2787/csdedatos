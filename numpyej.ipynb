{
  "nbformat": 4,
  "nbformat_minor": 0,
  "metadata": {
    "colab": {
      "provenance": [],
      "include_colab_link": true
    },
    "kernelspec": {
      "name": "python3",
      "display_name": "Python 3"
    },
    "language_info": {
      "name": "python"
    }
  },
  "cells": [
    {
      "cell_type": "markdown",
      "metadata": {
        "id": "view-in-github",
        "colab_type": "text"
      },
      "source": [
        "<a href=\"https://colab.research.google.com/github/gagabriela2787/csdedatos/blob/main/numpyej.ipynb\" target=\"_parent\"><img src=\"https://colab.research.google.com/assets/colab-badge.svg\" alt=\"Open In Colab\"/></a>"
      ]
    },
    {
      "cell_type": "markdown",
      "source": [
        "Numpy\n",
        "\n",
        "Proceso de instalación\n",
        "\n",
        "\n",
        "Creacion de arreglos a partir de listas\n",
        "\n",
        "\n",
        "Con numeros prefijados\n",
        "\n",
        "\n",
        "Con numeros aleatorios"
      ],
      "metadata": {
        "id": "kKCYdyUGi7iX"
      }
    },
    {
      "cell_type": "code",
      "execution_count": 2,
      "metadata": {
        "id": "CcjiGRdki57i"
      },
      "outputs": [],
      "source": [
        "#importar numpy\n",
        "import numpy as np\n"
      ]
    },
    {
      "cell_type": "code",
      "source": [
        "#crear un arreglo unidimesional\n",
        "arreglo1=np.array([1,2,3,4,5])\n",
        "print(arreglo1)"
      ],
      "metadata": {
        "id": "xB6hGrSApaHk",
        "outputId": "5c75c026-a225-408b-8153-3c75daaef71a",
        "colab": {
          "base_uri": "https://localhost:8080/"
        }
      },
      "execution_count": 3,
      "outputs": [
        {
          "output_type": "stream",
          "name": "stdout",
          "text": [
            "[1 2 3 4 5]\n"
          ]
        }
      ]
    },
    {
      "cell_type": "code",
      "source": [
        "#crear arreglo de dos dimensiones\n",
        "matrix=np.array([[1,2,3],[4,5,6]])\n",
        "print(matrix)"
      ],
      "metadata": {
        "id": "u9I_UUfLqOJV",
        "outputId": "afb80a1e-b3bf-4c23-f98d-e483d2ba08ea",
        "colab": {
          "base_uri": "https://localhost:8080/"
        }
      },
      "execution_count": 4,
      "outputs": [
        {
          "output_type": "stream",
          "name": "stdout",
          "text": [
            "[[1 2 3]\n",
            " [4 5 6]]\n"
          ]
        }
      ]
    },
    {
      "cell_type": "code",
      "source": [
        "arreglo3=np.array([matrix, matrix])\n",
        "print(arreglo3)"
      ],
      "metadata": {
        "id": "ddmTvQ-Hq6jV",
        "outputId": "529e22f4-96d9-4c3a-a3da-23022c6434e0",
        "colab": {
          "base_uri": "https://localhost:8080/"
        }
      },
      "execution_count": 5,
      "outputs": [
        {
          "output_type": "stream",
          "name": "stdout",
          "text": [
            "[[[1 2 3]\n",
            "  [4 5 6]]\n",
            "\n",
            " [[1 2 3]\n",
            "  [4 5 6]]]\n"
          ]
        }
      ]
    },
    {
      "cell_type": "code",
      "source": [
        "#uso de arange\n",
        "a=np.arange(10)\n",
        "print(a)\n"
      ],
      "metadata": {
        "id": "WFW-rsl6wItU",
        "outputId": "c17d5cfe-b49a-4225-92ee-25d13c56ac1b",
        "colab": {
          "base_uri": "https://localhost:8080/"
        }
      },
      "execution_count": 6,
      "outputs": [
        {
          "output_type": "stream",
          "name": "stdout",
          "text": [
            "[0 1 2 3 4 5 6 7 8 9]\n"
          ]
        }
      ]
    },
    {
      "cell_type": "markdown",
      "source": [
        "Ejercicio:\n",
        "Crear una matriz de 3 filas y 5 columnas,\n",
        "\n",
        " completados con los numeros del 1 al 15.\n"
      ],
      "metadata": {
        "id": "5vHddKiAsJb6"
      }
    },
    {
      "cell_type": "code",
      "source": [
        "matriz = np.arange(1, 10).reshape(3, 3)\n",
        "print(matriz)"
      ],
      "metadata": {
        "id": "hgA-HKnTwr0G"
      },
      "execution_count": null,
      "outputs": []
    },
    {
      "cell_type": "code",
      "source": [
        "# creando un arreglo con 0\n",
        "arreglo=np.zeros((3,5))\n",
        "print(arreglo)"
      ],
      "metadata": {
        "id": "hwku0ppPo7Hp"
      },
      "execution_count": null,
      "outputs": []
    },
    {
      "cell_type": "code",
      "source": [
        "# hacer lo mismo pero con una matriz"
      ],
      "metadata": {
        "id": "ssGAhkBZq3sq"
      },
      "execution_count": null,
      "outputs": []
    },
    {
      "cell_type": "code",
      "source": [
        "#creando un arreglo con 1\n",
        "arreglo=np.ones(10)\n",
        "print(arreglo)"
      ],
      "metadata": {
        "id": "z0jRy_rfpbq9"
      },
      "execution_count": null,
      "outputs": []
    },
    {
      "cell_type": "code",
      "source": [
        "#creando un arreglo con un mismo numero\n",
        "arreglo=np.full(10,6)\n",
        "print(arreglo)"
      ],
      "metadata": {
        "id": "Q1ToBpr-plpZ"
      },
      "execution_count": null,
      "outputs": []
    },
    {
      "cell_type": "code",
      "source": [
        "#Crear un arreglo con valores uniformemente espaciados\n",
        "arreglo=np.linspace(15, 20, 7)\n",
        "print(arreglo)"
      ],
      "metadata": {
        "id": "qXOf0XEwrsvf"
      },
      "execution_count": null,
      "outputs": []
    },
    {
      "cell_type": "markdown",
      "source": [
        "Crear un matrix de 4 filas y 5 columnas\n",
        "\n",
        "\n",
        "\n",
        "\n",
        ", lleno completamente del mismo valor 5.\n"
      ],
      "metadata": {
        "id": "bnV275Eox2jl"
      }
    },
    {
      "cell_type": "markdown",
      "source": [
        "# Numeros aleatorios con NumPy"
      ],
      "metadata": {
        "id": "OUREH8VPrPDX"
      }
    },
    {
      "cell_type": "code",
      "source": [
        "# generar arreglo con nros enteros valor inicial,valor final, tamaño\n",
        "x = np.random.randint(0,100,size=25)\n",
        "\n",
        "print(x)\n"
      ],
      "metadata": {
        "id": "KXfg9pn0vL0I"
      },
      "execution_count": null,
      "outputs": []
    },
    {
      "cell_type": "code",
      "source": [
        "#nros aleatorios entre 0 y 1\n",
        "b=np.random.rand(3)\n",
        "print(b)"
      ],
      "metadata": {
        "id": "nwCOp2tHw0X8"
      },
      "execution_count": null,
      "outputs": []
    },
    {
      "cell_type": "markdown",
      "source": [
        "Crear un arreglo tipo matriz de 3 filas y 7 columnas con numeros aleatorios entre 5 y 6."
      ],
      "metadata": {
        "id": "wMhpKaP22fX_"
      }
    },
    {
      "cell_type": "markdown",
      "source": [
        "# Operando sobre arreglos"
      ],
      "metadata": {
        "id": "FwhG9gRDxCWj"
      }
    },
    {
      "cell_type": "code",
      "source": [
        "a=np.array([1,2,3,4,5])\n",
        "\n",
        "b=a**3\n",
        "\n",
        "print(b)"
      ],
      "metadata": {
        "id": "uMhgdRS4wax4"
      },
      "execution_count": null,
      "outputs": []
    },
    {
      "cell_type": "code",
      "source": [
        "#podemos operar vectorialmente, siempre que sean de las mismos tamaños\n",
        "c=np.array([6,7,8,9,10])\n",
        "\n",
        "d=a+c\n",
        "\n",
        "print(d)"
      ],
      "metadata": {
        "id": "jRTgWiJfxnpk"
      },
      "execution_count": null,
      "outputs": []
    },
    {
      "cell_type": "code",
      "source": [],
      "metadata": {
        "id": "x4Fy8QTLyCwV"
      },
      "execution_count": null,
      "outputs": []
    }
  ]
}