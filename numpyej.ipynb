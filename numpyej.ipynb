{
  "nbformat": 4,
  "nbformat_minor": 0,
  "metadata": {
    "colab": {
      "provenance": [],
      "include_colab_link": true
    },
    "kernelspec": {
      "name": "python3",
      "display_name": "Python 3"
    },
    "language_info": {
      "name": "python"
    }
  },
  "cells": [
    {
      "cell_type": "markdown",
      "metadata": {
        "id": "view-in-github",
        "colab_type": "text"
      },
      "source": [
        "<a href=\"https://colab.research.google.com/github/gagabriela2787/csdedatos/blob/main/numpyej.ipynb\" target=\"_parent\"><img src=\"https://colab.research.google.com/assets/colab-badge.svg\" alt=\"Open In Colab\"/></a>"
      ]
    },
    {
      "cell_type": "markdown",
      "source": [
        "Numpy\n",
        "\n",
        "Proceso de instalación\n",
        "\n",
        "\n",
        "Creacion de arreglos a partir de listas\n",
        "\n",
        "\n",
        "Con numeros prefijados\n",
        "\n",
        "\n",
        "Con numeros aleatorios"
      ],
      "metadata": {
        "id": "kKCYdyUGi7iX"
      }
    },
    {
      "cell_type": "code",
      "execution_count": null,
      "metadata": {
        "id": "CcjiGRdki57i"
      },
      "outputs": [],
      "source": [
        "#importar numpy\n",
        "import numpy as np\n"
      ]
    },
    {
      "cell_type": "code",
      "source": [
        "#crear un arreglo unidimesional\n",
        "arreglo1=np.array([1,2,3,4,5])\n",
        "print(arreglo1)"
      ],
      "metadata": {
        "id": "xB6hGrSApaHk"
      },
      "execution_count": null,
      "outputs": []
    },
    {
      "cell_type": "code",
      "source": [
        "#crear arreglo de dos dimensiones\n",
        "matrix=np.array([[1,2,3],[4,5,6]])\n",
        "print(matrix)"
      ],
      "metadata": {
        "id": "u9I_UUfLqOJV"
      },
      "execution_count": null,
      "outputs": []
    },
    {
      "cell_type": "code",
      "source": [
        "arreglo3=np.array([matrix, matrix])\n",
        "print(arreglo3)"
      ],
      "metadata": {
        "id": "ddmTvQ-Hq6jV"
      },
      "execution_count": null,
      "outputs": []
    },
    {
      "cell_type": "code",
      "source": [
        "#uso de arange\n",
        "a=np.arange(1,11)\n",
        "print(a)\n",
        "\n",
        "print(\"ndim: \", a.ndim)\n",
        "print(\"shape:\", a.shape)\n",
        "print(\"size: \", a.size)\n"
      ],
      "metadata": {
        "id": "WFW-rsl6wItU"
      },
      "execution_count": null,
      "outputs": []
    },
    {
      "cell_type": "markdown",
      "source": [
        "Ejercicio:\n",
        "Crear una matriz de 3 filas y 5 columnas,\n",
        "\n",
        " completados con los numeros del 1 al 15.\n"
      ],
      "metadata": {
        "id": "5vHddKiAsJb6"
      }
    },
    {
      "cell_type": "code",
      "source": [
        "matriz = np.arange(1, 10).reshape(3, 3)\n",
        "print(matriz)"
      ],
      "metadata": {
        "id": "hgA-HKnTwr0G"
      },
      "execution_count": null,
      "outputs": []
    },
    {
      "cell_type": "code",
      "source": [
        "print(\"ndim: \", matriz.ndim)\n",
        "print(\"shape:\", matriz.shape)\n",
        "print(\"size: \", matriz.size)"
      ],
      "metadata": {
        "id": "m-R2IPag7Uwp"
      },
      "execution_count": null,
      "outputs": []
    },
    {
      "cell_type": "code",
      "source": [
        "# creando un arreglo con 0\n",
        "arreglo=np.zeros((4,5))\n",
        "print(arreglo)"
      ],
      "metadata": {
        "id": "hwku0ppPo7Hp"
      },
      "execution_count": null,
      "outputs": []
    },
    {
      "cell_type": "code",
      "source": [
        "print(\"ndim: \", arreglo.ndim)\n",
        "print(\"shape:\", arreglo.shape)\n",
        "print(\"size: \", arreglo.size)"
      ],
      "metadata": {
        "id": "RvuOUnoDEXre"
      },
      "execution_count": null,
      "outputs": []
    },
    {
      "cell_type": "code",
      "source": [
        "# hacer lo mismo pero con una matriz"
      ],
      "metadata": {
        "id": "ssGAhkBZq3sq"
      },
      "execution_count": null,
      "outputs": []
    },
    {
      "cell_type": "code",
      "source": [
        "#creando un arreglo con 1\n",
        "arreglo=np.ones((2,3))\n",
        "print(arreglo)"
      ],
      "metadata": {
        "id": "z0jRy_rfpbq9"
      },
      "execution_count": null,
      "outputs": []
    },
    {
      "cell_type": "code",
      "source": [
        "#creando un arreglo con un mismo numero\n",
        "arreglo=np.full(9,3)\n",
        "print(arreglo)"
      ],
      "metadata": {
        "id": "Q1ToBpr-plpZ"
      },
      "execution_count": null,
      "outputs": []
    },
    {
      "cell_type": "code",
      "source": [
        "#Crear un arreglo con valores uniformemente espaciados\n",
        "arreglo=np.linspace(1, 2, 5)\n",
        "print(arreglo)"
      ],
      "metadata": {
        "id": "qXOf0XEwrsvf"
      },
      "execution_count": null,
      "outputs": []
    },
    {
      "cell_type": "markdown",
      "source": [
        "Crear un matrix de 4 filas y 5 columnas\n",
        "\n",
        "\n",
        "\n",
        "\n",
        ", lleno completamente del mismo valor 5.\n"
      ],
      "metadata": {
        "id": "bnV275Eox2jl"
      }
    },
    {
      "cell_type": "markdown",
      "source": [
        "# Numeros aleatorios con NumPy"
      ],
      "metadata": {
        "id": "OUREH8VPrPDX"
      }
    },
    {
      "cell_type": "code",
      "source": [
        "# generar arreglo con nros enteros valor inicial,valor final, tamaño\n",
        "x = np.random.randint(1,10,size=10)\n",
        "\n",
        "print(x)\n"
      ],
      "metadata": {
        "id": "KXfg9pn0vL0I"
      },
      "execution_count": null,
      "outputs": []
    },
    {
      "cell_type": "code",
      "source": [
        "#nros aleatorios entre 0 y 1\n",
        "b=np.random.rand(25)\n",
        "print(b)"
      ],
      "metadata": {
        "id": "nwCOp2tHw0X8"
      },
      "execution_count": null,
      "outputs": []
    },
    {
      "cell_type": "markdown",
      "source": [
        "Crear un arreglo tipo matriz de 5 filas y 3 columnas con numeros aleatorios entre 5 y 6."
      ],
      "metadata": {
        "id": "wMhpKaP22fX_"
      }
    },
    {
      "cell_type": "markdown",
      "source": [
        "# Operando sobre arreglos"
      ],
      "metadata": {
        "id": "FwhG9gRDxCWj"
      }
    },
    {
      "cell_type": "code",
      "source": [
        "a=np.array([1,2,3,4,5])\n",
        "\n",
        "b=a**3\n",
        "\n",
        "print(b)"
      ],
      "metadata": {
        "id": "uMhgdRS4wax4"
      },
      "execution_count": null,
      "outputs": []
    },
    {
      "cell_type": "code",
      "source": [
        "#podemos operar vectorialmente, siempre que sean de las mismos tamaños\n",
        "c=np.array([6,7,8,9,10])\n",
        "\n",
        "d=a+c\n",
        "\n",
        "print(d)"
      ],
      "metadata": {
        "id": "jRTgWiJfxnpk"
      },
      "execution_count": null,
      "outputs": []
    },
    {
      "cell_type": "code",
      "source": [
        "arr = np.array([1,2,3,4,5])\n",
        "random_elements = np.random.choice(arr, size=(7,9))\n",
        "\n",
        "print(random_elements)"
      ],
      "metadata": {
        "id": "O1dJZ3dW1pKs"
      },
      "execution_count": null,
      "outputs": []
    },
    {
      "cell_type": "markdown",
      "source": [
        "Ejercicio crear una arreglo con los primeros 11 nros primos, y luego usarlo como insumo para generar una matriz de 4 filas y 7 columnas"
      ],
      "metadata": {
        "id": "38EZK2lf3TMs"
      }
    },
    {
      "cell_type": "code",
      "source": [
        "arr= np.array([2,3,5,7,11,13,17,19,23,29,31])\n",
        "random_elements=np.random.choice(arr,size=(4,7))\n",
        "print(random_elements)"
      ],
      "metadata": {
        "id": "-9fmnYaPXoZd"
      },
      "execution_count": null,
      "outputs": []
    },
    {
      "cell_type": "markdown",
      "source": [
        "#Manipulando arrays\n",
        "De manera muy parecida a las listas, los ndarrays permiten hacer slicing con []. Sus índices empiezan en 0.\n",
        "\n"
      ],
      "metadata": {
        "id": "tpLVHIWh4Dc6"
      }
    },
    {
      "cell_type": "code",
      "source": [
        "matrix_cool = np.arange(9).reshape(3, 3)\n",
        "print(matrix_cool)"
      ],
      "metadata": {
        "id": "EJXzRoWF2-i7"
      },
      "execution_count": null,
      "outputs": []
    },
    {
      "cell_type": "code",
      "source": [
        "print(matrix_cool[1,2])\n"
      ],
      "metadata": {
        "id": "qUKVw0MM4R_6"
      },
      "execution_count": null,
      "outputs": []
    },
    {
      "cell_type": "code",
      "source": [
        "print(matrix_cool[0, :])\n"
      ],
      "metadata": {
        "id": "h1kYDAi54V4P"
      },
      "execution_count": null,
      "outputs": []
    },
    {
      "cell_type": "code",
      "source": [
        "print(matrix_cool[:, 1])\n"
      ],
      "metadata": {
        "id": "O5VBfebI40cJ"
      },
      "execution_count": null,
      "outputs": []
    },
    {
      "cell_type": "code",
      "source": [
        "print(matrix_cool[0:2, 0:2])\n"
      ],
      "metadata": {
        "id": "HMQCczDk422P"
      },
      "execution_count": null,
      "outputs": []
    },
    {
      "cell_type": "code",
      "source": [
        "print(matrix_cool[:, :])\n"
      ],
      "metadata": {
        "id": "lyeTorly5AXU"
      },
      "execution_count": null,
      "outputs": []
    },
    {
      "cell_type": "markdown",
      "source": [
        "Crear un arreglo de nro enteros aleatorios, entre 1 y 100,de 5 filas por 5 columnas, y devolver la matriz central de 3x3 elementos"
      ],
      "metadata": {
        "id": "XmF6FkEl5G3B"
      }
    },
    {
      "cell_type": "code",
      "source": [
        "matriz = np.random.randint(1, 101, size=(5, 5))\n",
        "\n",
        "print(\"Matriz original:\")\n",
        "print(matriz)\n",
        "\n",
        "\n",
        "matriz_central = matriz[1:4, 1:4]\n",
        "\n",
        "print(\"\\nMatriz central:\")\n",
        "print(matriz_central)"
      ],
      "metadata": {
        "id": "Yu8_mcJTbtPg"
      },
      "execution_count": null,
      "outputs": []
    },
    {
      "cell_type": "markdown",
      "source": [],
      "metadata": {
        "id": "yRcRWHCjZycK"
      }
    },
    {
      "cell_type": "markdown",
      "source": [
        "#Estadística"
      ],
      "metadata": {
        "id": "xiDxsgtR56k0"
      }
    },
    {
      "cell_type": "code",
      "source": [
        "height_list = [74, 74, 72, 72, 73, 69, 69, 71, 76, 71, 73, 73, 74, 74, 69, 70, 73, 75, 78, 79, 76, 74, 76, 72, 71, 75]\n",
        "print(np.mean(height_list))\n",
        "print(np.median(height_list))\n",
        "print(np.std(height_list))"
      ],
      "metadata": {
        "id": "76J6QO9p6CXg"
      },
      "execution_count": null,
      "outputs": []
    },
    {
      "cell_type": "code",
      "source": [
        "#minimos y maximos\n",
        "print(np.max(height_list))\n",
        "print(np.min(height_list))"
      ],
      "metadata": {
        "id": "Uja3tMtN6dOL"
      },
      "execution_count": null,
      "outputs": []
    },
    {
      "cell_type": "markdown",
      "source": [
        ".rand() y .uniform()\n",
        ".rand(): números aleatorios en una distribución uniforme. Permite crear ndarrays.\n",
        ".uniform(): igual que rand, pero permite ingresar los límites de la muestra."
      ],
      "metadata": {
        "id": "fjI7WkvW0e4R"
      }
    },
    {
      "cell_type": "markdown",
      "source": [
        "#Numpy: Unión y Separación de Arrays (arreglos) para Procesar Datos\n"
      ],
      "metadata": {
        "id": "6gzaQJmY2YjM"
      }
    },
    {
      "cell_type": "code",
      "source": [
        "peso=np.array([56,78,97,45,68])\n",
        "\n",
        "altura=np.array([1.80,1.55,1.75,1.67,1.81])\n",
        "\n",
        "print(np.stack((peso,altura))) #por defecto toma el eje 0 o x"
      ],
      "metadata": {
        "id": "qwgwqZ0q2Tzm"
      },
      "execution_count": null,
      "outputs": []
    },
    {
      "cell_type": "code",
      "source": [
        "print(np.stack((peso,altura),axis=1))"
      ],
      "metadata": {
        "id": "SEaA2TMJ4CBI"
      },
      "execution_count": null,
      "outputs": []
    },
    {
      "cell_type": "markdown",
      "source": [
        "Ejercicio crear tres arreglos con valores aleatorios de temp para los meses de ene(22,42) feb(20,37) marzo(18,30) (7 valores primera semana de cada mes).Como ayuda por ejemplo temp min max: Unirlos en uno solo de 3 filas."
      ],
      "metadata": {
        "id": "MpMPW9wn40Yk"
      }
    },
    {
      "cell_type": "code",
      "source": [
        "# Valores aleatorios para enero (22.0, 42.0) redondeados a 1 decimal\n",
        "enero = np.round(np.random.uniform(22.0, 42.0, size=7), decimals=1)\n",
        "print(enero)\n",
        "# Valores aleatorios para febrero (20.0, 37.0) redondeados a 1 decimal\n",
        "febrero = np.round(np.random.uniform(20.0, 37.0, size=7), decimals=1)\n",
        "print(febrero)\n",
        "# Valores aleatorios para marzo (18.0, 30.0) redondeados a 1 decimal\n",
        "marzo = np.round(np.random.uniform(18.0, 30.0, size=7), decimals=1)\n",
        "print(marzo)\n",
        "# Apilar verticalmente los valores de temperatura\n",
        "temperaturas = np.vstack((enero, febrero, marzo))\n",
        "print(temperaturas )\n",
        "print(np.min(enero))\n",
        "print(np.max(enero))\n",
        "print(np.min(febrero))\n",
        "print(np.max(febrero))\n",
        "print(np.min(marzo))\n",
        "print(np.max(marzo))"
      ],
      "metadata": {
        "id": "HgHWKSwOayI9"
      },
      "execution_count": null,
      "outputs": []
    },
    {
      "cell_type": "code",
      "source": [
        "#concatenar sin aumentar las dimensiones\n",
        "print(np.concatenate((peso,altura)))"
      ],
      "metadata": {
        "id": "0550xNno4SSw"
      },
      "execution_count": null,
      "outputs": []
    },
    {
      "cell_type": "code",
      "source": [
        "# dividir un arreglo\n",
        "\n",
        "arr = np.array([1, 2, 3, 4, 5, 6])\n",
        "\n",
        "newarr = np.array_split(arr, 3)\n",
        "# se genera una lista de 3 elementos del tipo array\n",
        "print(newarr)\n"
      ],
      "metadata": {
        "id": "dQrmjgrD89Bk"
      },
      "execution_count": null,
      "outputs": []
    },
    {
      "cell_type": "code",
      "source": [
        "\n",
        "print(newarr[0])\n",
        "print(newarr[1])\n",
        "print(newarr[2])"
      ],
      "metadata": {
        "id": "YpSmwySM-ye9"
      },
      "execution_count": null,
      "outputs": []
    },
    {
      "cell_type": "markdown",
      "source": [
        "Crear dos arreglos denominados primer_sem y segundo_sem. Ambos contienen datos de la inflación mensual del 2022.Utilizar los datos del indec. Luego unirlos en un solo arreglo denominado \"anual\". Tomar el arreglo creado y dividirlo en trimestres, y mostrar los datos de inflación del primer y el último trimestre."
      ],
      "metadata": {
        "id": "OBDRkqQI-30c"
      }
    },
    {
      "cell_type": "code",
      "source": [
        "primer_sem=np.array([3.9,4.7,6.7,6.0,5.1,5.3])\n",
        "\n",
        "segundo_sem=np.array([7.4,7.0,6.2,6.3,4.9,5.1])\n",
        "\n",
        "anual=np.concatenate((primer_sem,segundo_sem))\n",
        "\n",
        "trimestre=np.array_split(anual,4)\n",
        "\n",
        "print(anual)\n",
        "print(trimestre)\n",
        "print( \"La inflación del primer trimestre es: \",trimestre[0])\n",
        "print(\"La inflación del cuarto trimestre es: \", trimestre[3])"
      ],
      "metadata": {
        "id": "mJIt5bUjfFYs"
      },
      "execution_count": null,
      "outputs": []
    },
    {
      "cell_type": "code",
      "source": [],
      "metadata": {
        "id": "avJ__W3FfFKm"
      },
      "execution_count": null,
      "outputs": []
    },
    {
      "cell_type": "code",
      "source": [],
      "metadata": {
        "id": "olE65Q0yfFDc"
      },
      "execution_count": null,
      "outputs": []
    },
    {
      "cell_type": "code",
      "source": [],
      "metadata": {
        "id": "RCZHcjZsfE64"
      },
      "execution_count": null,
      "outputs": []
    },
    {
      "cell_type": "code",
      "source": [],
      "metadata": {
        "id": "ml2uY9xwZiSH"
      },
      "execution_count": null,
      "outputs": []
    },
    {
      "cell_type": "code",
      "source": [
        "primer_sem = np.array([3.9, 4.7, 6.7, 6.0, 5.1, 5.3])\n",
        "\n",
        "segundo_sem = np.array([7.4, 7.0, 6.2, 6.3, 4.9, 5.1])\n",
        "\n",
        "anual = np.concatenate((primer_sem, segundo_sem))\n",
        "print(anual)\n",
        "\n",
        "trimestres = np.split(anual, 4)\n",
        "print(trimestres)\n",
        "\n",
        "primer_trimestre = trimestres[0]\n",
        "ultimo_trimestre = trimestres[3]\n",
        "\n",
        "print(\"Inflación del primer trimestre:\", primer_trimestre)\n",
        "print(\"Inflación del último trimestre:\", ultimo_trimestre)"
      ],
      "metadata": {
        "id": "vF_FQZdEQ5_V"
      },
      "execution_count": null,
      "outputs": []
    },
    {
      "cell_type": "markdown",
      "source": [
        "# Distribuciones\n"
      ],
      "metadata": {
        "id": "jcOiNp05bhQA"
      }
    },
    {
      "cell_type": "code",
      "source": [
        "import matplotlib as plt\n",
        "rand = np.random.rand(10000)\n",
        "plt.hist(rand, bins=50)\n",
        "plt.show()"
      ],
      "metadata": {
        "id": "_isDdAwU0t4Z"
      },
      "execution_count": null,
      "outputs": []
    },
    {
      "cell_type": "code",
      "source": [
        "import numpy as np\n",
        "import matplotlib.pyplot as plt\n",
        "\n",
        "uniform = np.random.uniform(low=18, high=90, size=10000)\n",
        "plt.hist(uniform, bins=50)#bins intervalos\n",
        "plt.show()"
      ],
      "metadata": {
        "id": "x4Fy8QTLyCwV"
      },
      "execution_count": null,
      "outputs": []
    },
    {
      "cell_type": "code",
      "source": [
        "normal = np.random.normal(0, 3, 10000)\n",
        "plt.hist(normal, bins=50)\n",
        "plt.title('Distribución normal')\n",
        "\n",
        "plt.show()"
      ],
      "metadata": {
        "id": "HGoq1VOC0RJs"
      },
      "execution_count": null,
      "outputs": []
    },
    {
      "cell_type": "code",
      "source": [
        "arr = np.random.randint(1, 101, size=(5, 5))\n",
        "print(arr)\n",
        "print(\"__________________________\")\n",
        "matriz_cen = arr[1:4, 1:4]\n",
        "print(matriz_cen)"
      ],
      "metadata": {
        "id": "o9fn01kKN929"
      },
      "execution_count": null,
      "outputs": []
    },
    {
      "cell_type": "code",
      "source": [
        "arr = np.array([2, 3, 5, 7, 11, 13, 17, 19, 23,29,31])\n",
        "random_elements = np.random.choice(arr, size=(4,7))\n",
        "\n",
        "print(random_elements)"
      ],
      "metadata": {
        "id": "KcfPRTU5UUXS"
      },
      "execution_count": null,
      "outputs": []
    },
    {
      "cell_type": "code",
      "source": [
        "import numpy as np\n",
        "import matplotlib.pyplot as plt\n",
        "\n",
        "# Generar datos de ejemplo en 2D\n",
        "x = np.random.randn(1000)\n",
        "y = np.random.randn(1000)\n",
        "\n",
        "# Crear histograma en 2D\n",
        "plt.hist2d(x, y, bins=20)\n",
        "\n",
        "# Agregar etiquetas y título\n",
        "plt.xlabel('X')\n",
        "plt.ylabel('Y')\n",
        "plt.title('Histograma en 2D')\n",
        "\n",
        "# Mostrar el histograma\n",
        "plt.colorbar()\n",
        "plt.show()\n"
      ],
      "metadata": {
        "id": "8_bnwTwr9Yhm"
      },
      "execution_count": null,
      "outputs": []
    },
    {
      "cell_type": "code",
      "source": [
        "import numpy as np\n",
        "import matplotlib.pyplot as plt\n",
        "\n",
        "# Generar datos de ejemplo en 3D\n",
        "x = np.random.randn(1000)\n",
        "y = np.random.randn(1000)\n",
        "z = np.random.randn(1000)\n",
        "\n",
        "# Crear histograma en 3D\n",
        "fig = plt.figure()\n",
        "ax = fig.add_subplot(111, projection='3d')\n",
        "hist, xedges, yedges = np.histogram2d(x, y, bins=20)\n",
        "xpos, ypos = np.meshgrid(xedges[:-1], yedges[:-1], indexing='ij')\n",
        "xpos = xpos.ravel()\n",
        "ypos = ypos.ravel()\n",
        "zpos = 0\n",
        "\n",
        "# Definir el ancho de las barras en el histograma\n",
        "dx = dy = 0.8 * (xedges[1] - xedges[0])\n",
        "dz = hist.ravel()\n",
        "ax.bar3d(xpos, ypos, zpos, dx, dy, dz)\n",
        "\n",
        "# Agregar etiquetas y título\n",
        "ax.set_xlabel('X')\n",
        "ax.set_ylabel('Y')\n",
        "ax.set_zlabel('Frecuencia')\n",
        "ax.set_title('Histograma en 3D')\n",
        "\n",
        "# Mostrar el histograma\n",
        "plt.show()\n"
      ],
      "metadata": {
        "id": "c_BKKh8s9mEN"
      },
      "execution_count": null,
      "outputs": []
    },
    {
      "cell_type": "code",
      "source": [
        "import matplotlib.pyplot as plt\n",
        "\n",
        "# Datos\n",
        "x = [1, 2, 3, 4, 5]\n",
        "y = [2, 4, 6, 8, 10]\n",
        "\n",
        "# Crear gráfico de línea\n",
        "plt.plot(x, y)\n",
        "\n",
        "# Personalizar el gráfico\n",
        "plt.title(\"Gráfico de línea\")\n",
        "\n",
        "plt.xlabel(\"Eje X\")\n",
        "plt.ylabel(\"Eje Y\")\n",
        "\n",
        "# Mostrar el gráfico\n",
        "plt.show()\n"
      ],
      "metadata": {
        "colab": {
          "base_uri": "https://localhost:8080/",
          "height": 472
        },
        "id": "Cf29jj-c3BNw",
        "outputId": "6a0e3452-2c74-4608-92e0-cbcc28990f55"
      },
      "execution_count": null,
      "outputs": [
        {
          "output_type": "display_data",
          "data": {
            "text/plain": [
              "<Figure size 640x480 with 1 Axes>"
            ],
            "image/png": "[encoded data removed]"
          },
          "metadata": {}
        }
      ]
    },
    {
      "cell_type": "code",
      "source": [
        "anio=[2015,2016,2017,2018,2019,2020,2021,2022]\n",
        "poblacion=[40,40.7,41.1,42.01,42.9,43.4,44,44.5]\n",
        "\n",
        "plt.plot(anio,poblacion)\n",
        "plt.show()\n"
      ],
      "metadata": {
        "colab": {
          "base_uri": "https://localhost:8080/",
          "height": 430
        },
        "id": "AG9hh4MRw5i-",
        "outputId": "2728c739-b093-4b9f-8b7a-9c2f0a254e5a"
      },
      "execution_count": null,
      "outputs": [
        {
          "output_type": "display_data",
          "data": {
            "text/plain": [
              "<Figure size 640x480 with 1 Axes>"
            ],
            "image/png": "[encoded data removed]"
          },
          "metadata": {}
        }
      ]
    },
    {
      "cell_type": "code",
      "source": [
        "anio=[2015,2016,2017,2018,2019,2020,2021,2022]\n",
        "poblacion=[40,40.7,41.1,42.01,42.9,43.4,44,44.5]\n",
        "\n",
        "anio1=[2015,2016,2017,2018,2019,2020,2021,2022]\n",
        "poblacion1=[41,42.7,43.1,44.01,45.9,46.4,47,48.5]\n",
        "\n",
        "plt.plot(anio,poblacion, color=\"r\")\n",
        "\n",
        "plt.plot(anio1,poblacion1, color=\"g\")\n",
        "\n",
        "plt.show()"
      ],
      "metadata": {
        "colab": {
          "base_uri": "https://localhost:8080/",
          "height": 430
        },
        "id": "p8vtA5OsumW9",
        "outputId": "08a8e0ae-71f3-4f2c-985c-4f9f62c2e95f"
      },
      "execution_count": null,
      "outputs": [
        {
          "output_type": "display_data",
          "data": {
            "text/plain": [
              "<Figure size 640x480 with 1 Axes>"
            ],
            "image/png": "[encoded data removed]"
          },
          "metadata": {}
        }
      ]
    },
    {
      "cell_type": "code",
      "source": [],
      "metadata": {
        "id": "ItB7I2LIxtuL"
      },
      "execution_count": null,
      "outputs": []
    },
    {
      "cell_type": "code",
      "source": [
        "anio=[2015,2016,2017,2018,2019,2020,2021,2022]\n",
        "poblacion=[40,40.7,41.1,42.01,42.9,43.4,44,44.5]\n",
        "\n",
        "anio1=[2015,2016,2017,2018,2019,2020,2021,2022]\n",
        "poblacion1=[41,42.7,43.1,44.01,45.9,46.4,47,48.5]\n",
        "\n",
        "plt.plot(anio,poblacion, color=\"r\")\n",
        "plt.plot(anio1,poblacion1, color=\"g\")\n",
        "\n",
        "plt.xlabel(\"AÑOS\")\n",
        "plt.ylabel(\"POB. EN MILLONES\")\n",
        "plt.title(\"Crecimiento poblacional años 2015-2022\")\n",
        "\n",
        "plt.show()"
      ],
      "metadata": {
        "id": "2oVtRf5JxuJk"
      },
      "execution_count": null,
      "outputs": []
    },
    {
      "cell_type": "code",
      "source": [
        "\n",
        "\n",
        "# Datos\n",
        "x = [1, 2, 3, 4, 5]\n",
        "y = [2, 4, 6, 8, 10]\n",
        "\n",
        "# Crear gráfico de dispersión\n",
        "plt.scatter(x, y)\n",
        "\n",
        "# Personalizar el gráfico\n",
        "plt.title(\"Gráfico de dispersión\")\n",
        "plt.xlabel(\"Eje X\")\n",
        "plt.ylabel(\"Eje Y\")\n",
        "\n",
        "# Mostrar el gráfico\n",
        "plt.show()\n"
      ],
      "metadata": {
        "id": "zmfoPwkv3LzW"
      },
      "execution_count": null,
      "outputs": []
    },
    {
      "cell_type": "code",
      "source": [
        "\n",
        "# Datos\n",
        "categorias = ['A', 'B', 'C', 'D', 'E']\n",
        "valores = [15, 10, 7, 12, 9]\n",
        "\n",
        "# Crear gráfico de barras\n",
        "plt.bar(categorias, valores)\n",
        "\n",
        "# Personalizar el gráfico\n",
        "plt.title(\"Gráfico de barras\")\n",
        "plt.xlabel(\"Categorías\")\n",
        "plt.ylabel(\"Valores\")\n",
        "\n",
        "# Mostrar el gráfico\n",
        "plt.show()\n"
      ],
      "metadata": {
        "id": "3HRVf_AC3TfP"
      },
      "execution_count": null,
      "outputs": []
    }
  ]
}